{
 "cells": [
  {
   "cell_type": "markdown",
   "id": "f8bd4779",
   "metadata": {},
   "source": [
    "# Lektion Cross Selling\n",
    "\n",
    "\n",
    "## Aufgabenstellung\n",
    "Sie sollen in einer portugiesichen Privatkundenbank eine Kundenselektion für eine bevorstehende Direktmarketing-Kampagne für eine langfristige Einlage vorbereiten. Ihnen stehen historische Daten aus 17 Kampagenen zwischen Mai 2008 und November 2010 zur Verfügung mit insgesamt rund 41.000 Kontakten. Für jeden Kontakt wurden unterschiedliche Attribute gespeichert und erfasst, ob der Kontakt zu einem Produktabschluss geführt hat oder nicht. Der Datensatz wurde in folgender Forschungsarbeit erhoben und publiziert: S. Moro, P. Cortez and P. Rita. A Data-Driven Approach to Predict the Success of Bank Telemarketing. Decision Support Systems (2014).\n",
    "\n",
    "Erstellen Sie ein Affinitätsmodell.\n",
    "\n",
    "## Datenbeschreibung\n",
    "\n",
    "\n",
    "- **bank client data**\n",
    "    - age (numeric)\n",
    "    - job : type of job (categorical: \"admin.\", \"blue-collar\", \"entrepreneur\", \"housemaid\", \"management\", \"retired\", \"self-employed\", \"services\", \"student\", \"technician\", \"unemployed\", \"unknown\")\n",
    "    - marital : marital status (categorical: \"divorced\",\"married\",\"single\",\"unknown\"; note: \"divorced\" means divorced or widowed)\n",
    "    - education (categorical: \"basic.4y\", \"basic.6y\", \"basic.9y\", \"high.school\", \"illiterate\", \"professional.course\", \"university.degree\", \"unknown\")\n",
    "    - default: has credit in default? (categorical: \"no\", \"yes\", \"unknown\")\n",
    "    - housing: has housing loan? (categorical: \"no\", \"yes\", \"unknown\")\n",
    "    - loan: has personal loan? (categorical: \"no\", \"yes\", \"unknown\")\n",
    "- **related with the last contact of the current campaign**\n",
    "    - contact: contact communication type (categorical: \"cellular\", \"telephone\") \n",
    "    - month: last contact month of year (categorical: \"jan\", \"feb\", \"mar\", ..., \"nov\", \"dec\")\n",
    "    - day_of_week: last contact day of the week (categorical: \"mon\", \"tue\", \"wed\", \"thu\", \"fri\")\n",
    "    - duration: last contact duration, in seconds (numeric). Important note:  this attribute highly affects the output target (e.g., if duration=0 then y=\"no\").\n",
    "- **other attributes**\n",
    "    - campaign: number of contacts performed during this campaign and for this client (numeric, includes last contact)\n",
    "    - pdays: number of days that passed by after the client was last contacted from a previous campaign (numeric; 999 means client was not previously contacted)\n",
    "    - previous: number of contacts performed before this campaign and for this client (numeric)\n",
    "    - poutcome: outcome of the previous marketing campaign (categorical: \"failure\", \"nonexistent\", \"success\")\n",
    "- **social and economic context attributes**\n",
    "    - emp.var.rate: employment variation rate - quarterly indicator (numeric)\n",
    "    - cons.price.idx: consumer price index - monthly indicator (numeric)     \n",
    "    - cons.conf.idx: consumer confidence index - monthly indicator (numeric)     \n",
    "    - euribor3m: euribor 3 month rate - daily indicator (numeric)\n",
    "    - nr.employed: number of employees - quarterly indicator (numeric)\n",
    "- **Output variable (desired target)**\n",
    "    - y - has the client subscribed a term deposit? (binary: \"yes\", \"no\")"
   ]
  },
  {
   "cell_type": "markdown",
   "id": "3d04fe6b",
   "metadata": {},
   "source": [
    "## Struktur\n",
    "Führen Sie die Datenauswertung in folgenden Schritten aus:\n",
    "1. [Datenexploration](#Datenexploration)\n",
    "1. [Datentransformation](#Datentransformation)\n",
    "1. [Modellierung](#Modellierung)\n",
    "1. [Auswertung der Modellgüte](#Modellgüte)\n",
    "1. [Bestimmung der optimalen Werbemenge](#Optimale-Werbemenge)"
   ]
  },
  {
   "cell_type": "markdown",
   "id": "e4ba3aa1",
   "metadata": {},
   "source": [
    "## Datenexploration"
   ]
  },
  {
   "cell_type": "markdown",
   "id": "f9b21f6c",
   "metadata": {},
   "source": [
    "Die Daten sind in der Datei \"bank-additional-full.csv\" bereitgestellt. <br><br>\n",
    "a. Importieren Sie benötigte Python Module.<br>\n",
    "b. Lesen Sie diese ein. Wieviele Zeilen und Spalten hat der Datensatz?<br>\n",
    "c. Geben Sie einige Zeilen aus.<br>\n",
    "d. Geben Sie die Datentypen aus. Müssen wir Spalten für die Modellierung transformieren?<br>\n",
    "e. Generieren Sie deskriptive Statistiken (Mittelwert, Standardabweichung, Min, Max-Werte) für die numerischen Variablen. Explorieren Sie etwaige Ausreißer.<br>\n",
    "f. Transformieren Sie die Zielvariable in eine Binärkodierung (1/0) und berechnen Sie die Pearson Korrelationskoeffizienten aller numerischen Variablen mit der Zielvariable. Gibt es Auffälligkeiten?<br>\n",
    "g. Generieren Sie deskriptive Statistiken für die kategorischen Variablen (Anzahl Merkmalsausprägungen, Anzahl Datensätze pro Merkmalsausprägung). Müssen Merkmalsausprägungen zusammengeführt werden?<br>\n",
    "h. Analysieren Sie die Verteilung der Zielvariable. Handelt es sich um eine balancierten Datensatz?"
   ]
  },
  {
   "cell_type": "code",
   "execution_count": null,
   "id": "12d93d32",
   "metadata": {},
   "outputs": [],
   "source": [
    "# a. Importieren Sie benötigte Python Module.\n",
    "# Import von wesentlichen Modulen und Einstellungen\n",
    "# Gerne können Sie Module ergänzen oder entfernen\n",
    "import pandas as pd\n",
    "import numpy as np\n",
    "from matplotlib import pyplot as plt\n",
    "import seaborn as sns\n",
    "\n",
    "from sklearn.compose import ColumnTransformer\n",
    "from sklearn.pipeline import Pipeline\n",
    "from sklearn.preprocessing import StandardScaler, OneHotEncoder\n",
    "from sklearn.ensemble import RandomForestClassifier\n",
    "from sklearn.model_selection import train_test_split, StratifiedKFold, RandomizedSearchCV\n",
    "from sklearn.metrics import classification_report,confusion_matrix,accuracy_score\n",
    "from sklearn.metrics import precision_recall_curve, roc_auc_score, roc_curve\n",
    "from sklearn.model_selection import cross_val_score\n",
    "\n",
    "pd.set_option('display.max_columns', None)"
   ]
  },
  {
   "cell_type": "code",
   "execution_count": null,
   "id": "b6eb51fb",
   "metadata": {},
   "outputs": [],
   "source": [
    "# b. Lesen Sie diese ein. Wieviele Zeilen und Spalten hat der Datensatz?\n"
   ]
  },
  {
   "cell_type": "code",
   "execution_count": null,
   "id": "d5fd66a1",
   "metadata": {},
   "outputs": [],
   "source": [
    "# c. Geben Sie einige Zeilen aus.\n"
   ]
  },
  {
   "cell_type": "code",
   "execution_count": null,
   "id": "19a693db",
   "metadata": {},
   "outputs": [],
   "source": [
    "# d. Geben Sie die Datentypen aus. Müssen wir Spalten für die Modellierung transformieren?\n"
   ]
  },
  {
   "cell_type": "code",
   "execution_count": null,
   "id": "84da3fe6",
   "metadata": {
    "scrolled": true
   },
   "outputs": [],
   "source": [
    "# e. Generieren Sie deskriptive Statistiken (Mittelwert, Standardabweichung, Min, Max-Werte) für die numerischen Variablen. Explorieren Sie etwaige Ausreißer.\n"
   ]
  },
  {
   "cell_type": "code",
   "execution_count": null,
   "id": "0b63680a",
   "metadata": {
    "scrolled": true
   },
   "outputs": [],
   "source": [
    "# f. Transformieren Sie die Zielvariable in eine Binärkodierung (1/0) und berechnen Sie die Pearson Korrelationskoeffizienten aller numerischen Variablen mit der Zielvariable. Gibt es Auffälligkeiten?\n"
   ]
  },
  {
   "cell_type": "code",
   "execution_count": null,
   "id": "50c10b69",
   "metadata": {
    "scrolled": false
   },
   "outputs": [],
   "source": [
    "# g. Generieren Sie deskriptive Statistiken für die kategorischen Variablen (Anzahl Merkmalsausprägungen, Anzahl Datensätze pro Merkmalsausprägung). Müssen Merkmalsausprägungen zusammengeführt werden?\n"
   ]
  },
  {
   "cell_type": "code",
   "execution_count": null,
   "id": "a5810d1a",
   "metadata": {},
   "outputs": [],
   "source": [
    "# h. Analysieren Sie die Verteilung der Zielvariable. Handelt es sich um eine balancierten Datensatz?\n"
   ]
  },
  {
   "cell_type": "markdown",
   "id": "59087e92",
   "metadata": {},
   "source": [
    "## Datentransformation"
   ]
  },
  {
   "cell_type": "markdown",
   "id": "b2746213",
   "metadata": {},
   "source": [
    "a. Entfernen Sie falls notwendig Datensätze.<br>\n",
    "b. Entfernen Sie falls notwendig Spalten.<br>\n",
    "c. Splitten Sie den Datensatz in Train (80%) und Test Set (20%). Achten Sie darauf, dass die Zielvariable jeweils gleich verteilt ist.<br>\n",
    "d. Muss eine Leerwertauffüllung durchgeführt werden?<br>\n",
    "e. Führen Sie eine Standardisierung der numerischen Variablen und ein One-Hot-Encoding der kategorischen Variablen durch.<br>"
   ]
  },
  {
   "cell_type": "code",
   "execution_count": null,
   "id": "07c7c1fa",
   "metadata": {},
   "outputs": [],
   "source": [
    "# a. Entfernen Sie falls notwendig Datensätze.\n"
   ]
  },
  {
   "cell_type": "code",
   "execution_count": null,
   "id": "bf1d1399",
   "metadata": {},
   "outputs": [],
   "source": [
    "# b. Entfernen Sie falls notwendig Spalten.\n"
   ]
  },
  {
   "cell_type": "code",
   "execution_count": null,
   "id": "435fdd71",
   "metadata": {},
   "outputs": [],
   "source": [
    "# c. Splitten Sie den Datensatz in Train (80%) und Test Set (20%). Achten Sie darauf, dass die Zielvariable jeweils gleich verteilt ist.\n"
   ]
  },
  {
   "cell_type": "code",
   "execution_count": null,
   "id": "dd2c7950",
   "metadata": {},
   "outputs": [],
   "source": [
    "# d. Muss eine Leerwertauffüllung durchgeführt werden?\n"
   ]
  },
  {
   "cell_type": "code",
   "execution_count": null,
   "id": "563962e9",
   "metadata": {},
   "outputs": [],
   "source": [
    "# e. Führen Sie eine Standardisierung der numerischen Variablen und ein One-Hot-Encoding der kategorischen Variablen durch.\n"
   ]
  },
  {
   "cell_type": "markdown",
   "id": "e8963942",
   "metadata": {},
   "source": [
    "## Modellierung"
   ]
  },
  {
   "cell_type": "markdown",
   "id": "77f314cd",
   "metadata": {},
   "source": [
    "a. Nutzen Sie den [RandomForestClassifier](https://scikit-learn.org/stable/modules/generated/sklearn.ensemble.RandomForestClassifier.html) mit den Standardeinstellungen. Nehmen Sie lediglich eine Einstellung vor, damit die Unbalanciertheit ausgeglichen wird. Nutzen Sie [get_params](), um die Parametereinstellungen auszugeben.\n",
    "b. Bestimmen Sie die [AUC: Area Under the Receiver Operating Characteristic Curve](https://scikit-learn.org/stable/modules/generated/sklearn.metrics.roc_auc_score.html) des Modells für den **Trainingsdatensatz**. <br>\n",
    "c. Nutzen Sie Kreuzvalidierung ([scikit-learn cross_val_score](https://scikit-learn.org/stable/modules/generated/sklearn.model_selection.cross_val_score.html)) auf dem **Trainingsdatensatz**, um die AUC des berechneten Modells für unbekannte Daten zu bestimmen. Liegt Überanpassung (Overfitting) vor?<br>\n",
    "d. Führen Sie für den RandomForestClassifier eine Hyperparameteroptimierung durch. Fokussieren Sie sich zunächst auf die Parameter n_estimators, max_features und max_depth. Nutzen Sie hierfür entweder [RandomizedSearchCV](https://scikit-learn.org/stable/modules/generated/sklearn.model_selection.RandomizedSearchCV.html) oder [GridSearchCV](https://scikit-learn.org/stable/modules/generated/sklearn.model_selection.GridSearchCV.html). Geben Sie die Modellparameter sowie den AUC-Wert des besten Modells aus. \n",
    "e. Berechnen Sie den AUC-Wert des optimierten Modells für den **Trainingsdatensatz**. Konnten Sie das Problem der Überanpassung reduzieren?"
   ]
  },
  {
   "cell_type": "code",
   "execution_count": null,
   "id": "a5d854e5",
   "metadata": {},
   "outputs": [],
   "source": [
    "%%time\n",
    "# a. Nutzen Sie den [RandomForestClassifier](https://scikit-learn.org/stable/modules/generated/sklearn.ensemble.RandomForestClassifier.html) mit den Standardeinstellungen. Nehmen Sie lediglich eine Einstellung vor, damit die Unbalanciertheit ausgeglichen wird. Nutzen Sie [get_params](), um die Parametereinstellungen auszugeben.\n"
   ]
  },
  {
   "cell_type": "code",
   "execution_count": null,
   "id": "52f70279",
   "metadata": {},
   "outputs": [],
   "source": [
    "# b. Bestimmen Sie die [AUC: Area Under the Receiver Operating Characteristic Curve](https://scikit-learn.org/stable/modules/generated/sklearn.metrics.roc_auc_score.html) des Modells für den **Trainingsdatensatz**.\n"
   ]
  },
  {
   "cell_type": "code",
   "execution_count": null,
   "id": "0b22d3d1",
   "metadata": {
    "scrolled": true
   },
   "outputs": [],
   "source": [
    "%%time\n",
    "# c. Nutzen Sie Kreuzvalidierung (scikit-learn cross_val_score) auf dem Trainingsdatensatz, um die AUC für unbekannte Daten zu bestimmen. Liegt Überanpassung (Overfitting) vor?\n"
   ]
  },
  {
   "cell_type": "code",
   "execution_count": null,
   "id": "9b566872",
   "metadata": {},
   "outputs": [],
   "source": [
    "%%time\n",
    "#d. Führen Sie für den RandomForestClassifier eine Hyperparameteroptimierung durch. Fokussieren Sie sich zunächst auf die Parameter n_estimators, max_features und max_depth. Nutzen Sie hierfür entweder [RandomizedSearchCV](https://scikit-learn.org/stable/modules/generated/sklearn.model_selection.RandomizedSearchCV.html) oder [GridSearchCV](https://scikit-learn.org/stable/modules/generated/sklearn.model_selection.GridSearchCV.html).\n"
   ]
  },
  {
   "cell_type": "code",
   "execution_count": null,
   "id": "c452a033",
   "metadata": {},
   "outputs": [],
   "source": [
    "# e. Berechnen Sie den AUC-Wert des optimierten Modells für den **Trainingsdatensatz**. Konnten Sie das Problem der Überanpassung reduzieren?\n"
   ]
  },
  {
   "cell_type": "markdown",
   "id": "7c582c79",
   "metadata": {},
   "source": [
    "## Modellgüte"
   ]
  },
  {
   "cell_type": "markdown",
   "id": "f4ad7516",
   "metadata": {},
   "source": [
    "a. Wenden Sie sich nun dem Testdatensatz zu. Berechnen Sie die prognostizierten Klassenzugehörigkeiten und stellen Sie die [confusion_matrix](https://scikit-learn.org/stable/modules/generated/sklearn.metrics.confusion_matrix.html) dar. Geben Sie auch den AUC-Wert an.<br>\n",
    "b. Nutzen Sie [classification_report](https://scikit-learn.org/stable/modules/generated/sklearn.metrics.classification_report.html), um Precision, Recall und F1-Score zu berechnen.<br>\n",
    "c. Nutzen Sie [precision_recall_curve](https://scikit-learn.org/stable/modules/generated/sklearn.metrics.precision_recall_curve.html), um den Verlauf von Precision und Recall in Abhängigkeit des Klassifikationsschwellenwertes darzustellen.<br>\n",
    "d. Was wäre für den beschriebenen Anwendungsfall ein geeigneter Klassifikationsschwellwert? Berechnen Sie die [F1-Scores](https://en.wikipedia.org/wiki/F-score). Bei welchem Klassifikationsschwellenwert nimmt der F1-Score einen Maximalwert an?<br>\n",
    "e. Nehmen Sie den eben berechneten Maximalwert als Klassifikationsschwellwert und berechnen Sie den [classification_report](https://scikit-learn.org/stable/modules/generated/sklearn.metrics.classification_report.html) neu.\n"
   ]
  },
  {
   "cell_type": "code",
   "execution_count": null,
   "id": "8901393f",
   "metadata": {},
   "outputs": [],
   "source": [
    "# a. Wenden Sie sich nun dem Testdatensatz zu. Berechnen Sie die prognostizierten Klassenzugehörigkeiten und stellen Sie die [confusion_matrix](https://scikit-learn.org/stable/modules/generated/sklearn.metrics.confusion_matrix.html) dar. Geben Sie auch den AUC-Wert an.\n"
   ]
  },
  {
   "cell_type": "code",
   "execution_count": null,
   "id": "d1c20028",
   "metadata": {},
   "outputs": [],
   "source": [
    "# b. Nutzen Sie [classification_report](https://scikit-learn.org/stable/modules/generated/sklearn.metrics.classification_report.html), um Precision, Recall und F1-Score zu berechnen.\n",
    " "
   ]
  },
  {
   "cell_type": "code",
   "execution_count": null,
   "id": "25bb54cf",
   "metadata": {
    "scrolled": true
   },
   "outputs": [],
   "source": [
    "# c. Nutzen Sie [precision_recall_curve](https://scikit-learn.org/stable/modules/generated/sklearn.metrics.precision_recall_curve.html), um den Verlauf von Precision und Recall in Abhängigkeit des Klassifikationsschwellenwertes darzustellen.\n",
    " "
   ]
  },
  {
   "cell_type": "code",
   "execution_count": null,
   "id": "1bf22201",
   "metadata": {},
   "outputs": [],
   "source": [
    "# d. Was wäre für den beschriebenen Anwendungsfall ein geeigneter Klassifikationsschwellwert? Berechnen Sie die [F1-Scores](https://en.wikipedia.org/wiki/F-score). Bei welchem Klassifikationsschwellenwert nimmt der F1-Score einen Maximalwert an?\n"
   ]
  },
  {
   "cell_type": "code",
   "execution_count": null,
   "id": "c4b20e73",
   "metadata": {},
   "outputs": [],
   "source": [
    "# e. Nehmen Sie den eben berechneten Maximalwert als Klassifikationsschwellwert und berechnen Sie den [classification_report](https://scikit-learn.org/stable/modules/generated/sklearn.metrics.classification_report.html) neu.\n"
   ]
  },
  {
   "cell_type": "markdown",
   "id": "bce0da9c",
   "metadata": {},
   "source": [
    "## Optimale Werbemenge"
   ]
  },
  {
   "cell_type": "markdown",
   "id": "7e656612",
   "metadata": {},
   "source": [
    "a. Analysieren sie zunächst die Variablenwichtigkeiten des optimierten Modells. Stellen Sie die 10 wichtigsten Variablen grafisch dar.<br>\n",
    "b. Welche Ratschläge würden Sie der Bank auf Basis der Variablenwichtigkeiten geben?<br>\n",
    "c. Nehmen Sie vereinfachend an, dass die Kunden des Testdatensatzes noch keiner Werbemaßnahme zugeführt wurden und Sie entprechend die Kundenreaktion nicht kennen. Erstellen Sie aus dem Testdatensatz einen fiktiven Vorhersagedatensatz (\"prediction set\"), in dem Sie den Testdatensatz kopieren und die externen Einflussfaktoren fixieren: Ersetzen Sie folgende Spalten mit dem jeweiligen Median: \"emp.var.rate\", \"cons.price.idx\", \"cons.conf.idx\", \"euribor3m\", \"nr.employed\". Bestimmen Sie für den so konstruierten Vorhersagedatensatz unter folgenden Annahmen die optimale Werbemenge: Fixkosten der Werbemaßname: 2000€, variable Kosten der Werbemaßnahme pro Kunde: 30€, Deckungsbeitrag pro erfolgreichem Abschluss: 100 €. Nutzen Sie dabei die Klassenwahrscheinlichkeit [predict_proba](https://scikit-learn.org/stable/modules/generated/sklearn.ensemble.RandomForestClassifier.html#sklearn.ensemble.RandomForestClassifier.predict_proba) als Kaufwahrscheinlichkeit. Stellen Sie zudem den Zusammenhang aus Werbemenge und Kampagnenertrag grafisch dar.  "
   ]
  },
  {
   "cell_type": "code",
   "execution_count": null,
   "id": "c14b67e6",
   "metadata": {
    "scrolled": false
   },
   "outputs": [],
   "source": [
    "# a. Analysieren sie zunächst die Variablenwichtigkeiten des optimierten Modells. Stellen Sie die 10 wichtigsten Variablen grafisch dar.\n"
   ]
  },
  {
   "cell_type": "markdown",
   "id": "5657ba1e",
   "metadata": {},
   "source": [
    "b. Welche Ratschläge würden Sie der Bank auf Basis der Variablenwichtigkeiten geben?<br>\n"
   ]
  },
  {
   "cell_type": "markdown",
   "id": "10d70054",
   "metadata": {},
   "source": [
    "c. Nehmen Sie vereinfachend an, dass die Kunden des Testdatensatzes noch keiner Werbemaßnahme zugeführt wurden und Sie entprechend die Kundenreaktion nicht kennen. Erstellen Sie aus dem Testdatensatz einen fiktiven Vorhersagedatensatz (\"prediction set\"), in dem Sie den Testdatensatz kopieren und die externen Einflussfaktoren fixieren: Ersetzen Sie folgende Spalten mit dem jeweiligen Median: \"emp.var.rate\", \"cons.price.idx\", \"cons.conf.idx\", \"euribor3m\", \"nr.employed\". Bestimmen Sie für den so konstruierten Vorhersagedatensatz unter folgenden Annahmen die optimale Werbemenge: Fixkosten der Werbemaßname: 2000€, variable Kosten der Werbemaßnahme pro Kunde: 30€, Deckungsbeitrag pro erfolgreichem Abschluss: 100 €. Nutzen Sie dabei die Klassenwahrscheinlichkeit [predict_proba](https://scikit-learn.org/stable/modules/generated/sklearn.ensemble.RandomForestClassifier.html#sklearn.ensemble.RandomForestClassifier.predict_proba) als Kaufwahrscheinlichkeit. Stellen Sie zudem den Zusammenhang aus Werbemenge und Kampagnenertrag grafisch dar."
   ]
  },
  {
   "cell_type": "code",
   "execution_count": null,
   "id": "aff9c455",
   "metadata": {},
   "outputs": [],
   "source": []
  }
 ],
 "metadata": {
  "kernelspec": {
   "display_name": "Python 3 (ipykernel)",
   "language": "python",
   "name": "python3"
  },
  "language_info": {
   "codemirror_mode": {
    "name": "ipython",
    "version": 3
   },
   "file_extension": ".py",
   "mimetype": "text/x-python",
   "name": "python",
   "nbconvert_exporter": "python",
   "pygments_lexer": "ipython3",
   "version": "3.10.0"
  }
 },
 "nbformat": 4,
 "nbformat_minor": 5
}
