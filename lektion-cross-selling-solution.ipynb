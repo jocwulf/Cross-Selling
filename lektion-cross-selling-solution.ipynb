{
 "cells": [
  {
   "cell_type": "markdown",
   "id": "f8bd4779",
   "metadata": {},
   "source": [
    "# Lektion Cross Selling\n",
    "\n",
    "\n",
    "## Aufgabenstellung\n",
    "Sie sollen in einer portugiesichen Privatkundenbank eine Kundenselektion für eine bevorstehende Direktmarketing-Kampagne für eine langfristige Einlage vorbereiten. Ihnen stehen historische Daten aus 17 Kampagenen zwischen Mai 2008 und November 2010 zur Verfügung mit insgesamt rund 41.000 Kontakten. Für jeden Kontakt wurden unterschiedliche Attribute gespeichert und erfasst, ob der Kontakt zu einem Produktabschluss geführt hat oder nicht. Der Datensatz wurde in folgender Forschungsarbeit erhoben und publiziert: S. Moro, P. Cortez and P. Rita. A Data-Driven Approach to Predict the Success of Bank Telemarketing. Decision Support Systems (2014).\n",
    "\n",
    "Erstellen Sie ein Affinitätsmodell.\n",
    "\n",
    "## Datenbeschreibung\n",
    "\n",
    "\n",
    "- **bank client data**\n",
    "    - age (numeric)\n",
    "    - job : type of job (categorical: \"admin.\", \"blue-collar\", \"entrepreneur\", \"housemaid\", \"management\", \"retired\", \"self-employed\", \"services\", \"student\", \"technician\", \"unemployed\", \"unknown\")\n",
    "    - marital : marital status (categorical: \"divorced\",\"married\",\"single\",\"unknown\"; note: \"divorced\" means divorced or widowed)\n",
    "    - education (categorical: \"basic.4y\", \"basic.6y\", \"basic.9y\", \"high.school\", \"illiterate\", \"professional.course\", \"university.degree\", \"unknown\")\n",
    "    - default: has credit in default? (categorical: \"no\", \"yes\", \"unknown\")\n",
    "    - housing: has housing loan? (categorical: \"no\", \"yes\", \"unknown\")\n",
    "    - loan: has personal loan? (categorical: \"no\", \"yes\", \"unknown\")\n",
    "- **related with the last contact of the current campaign**\n",
    "    - contact: contact communication type (categorical: \"cellular\", \"telephone\") \n",
    "    - month: last contact month of year (categorical: \"jan\", \"feb\", \"mar\", ..., \"nov\", \"dec\")\n",
    "    - day_of_week: last contact day of the week (categorical: \"mon\", \"tue\", \"wed\", \"thu\", \"fri\")\n",
    "    - duration: last contact duration, in seconds (numeric). Important note:  this attribute highly affects the output target (e.g., if duration=0 then y=\"no\").\n",
    "- **other attributes**\n",
    "    - campaign: number of contacts performed during this campaign and for this client (numeric, includes last contact)\n",
    "    - pdays: number of days that passed by after the client was last contacted from a previous campaign (numeric; 999 means client was not previously contacted)\n",
    "    - previous: number of contacts performed before this campaign and for this client (numeric)\n",
    "    - poutcome: outcome of the previous marketing campaign (categorical: \"failure\", \"nonexistent\", \"success\")\n",
    "- **social and economic context attributes**\n",
    "    - emp.var.rate: employment variation rate - quarterly indicator (numeric)\n",
    "    - cons.price.idx: consumer price index - monthly indicator (numeric)     \n",
    "    - cons.conf.idx: consumer confidence index - monthly indicator (numeric)     \n",
    "    - euribor3m: euribor 3 month rate - daily indicator (numeric)\n",
    "    - nr.employed: number of employees - quarterly indicator (numeric)\n",
    "- **Output variable (desired target)**\n",
    "    - y - has the client subscribed a term deposit? (binary: \"yes\", \"no\")"
   ]
  },
  {
   "cell_type": "markdown",
   "id": "3d04fe6b",
   "metadata": {},
   "source": [
    "## Struktur\n",
    "Führen Sie die Datenauswertung in folgenden Schritten aus:\n",
    "1. [Datenexploration](#Datenexploration)\n",
    "1. [Datentransformation](#Datentransformation)\n",
    "1. [Modellierung](#Modellierung)\n",
    "1. [Auswertung der Modellgüte](#Modellgüte)\n",
    "1. [Bestimmung der optimalen Werbemenge](#Optimale-Werbemenge)"
   ]
  },
  {
   "cell_type": "markdown",
   "id": "e4ba3aa1",
   "metadata": {},
   "source": [
    "## Datenexploration"
   ]
  },
  {
   "cell_type": "markdown",
   "id": "f9b21f6c",
   "metadata": {},
   "source": [
    "Die Daten sind in der Datei \"bank-additional-full.csv\" bereitgestellt. <br><br>\n",
    "a. Importieren Sie benötigte Python Module.<br>\n",
    "b. Lesen Sie diese ein. Wieviele Zeilen und Spalten hat der Datensatz?<br>\n",
    "c. Geben Sie einige Zeilen aus.<br>\n",
    "d. Geben Sie die Datentypen aus. Müssen wir Spalten für die Modellierung transformieren?<br>\n",
    "e. Generieren Sie deskriptive Statistiken (Mittelwert, Standardabweichung, Min, Max-Werte) für die numerischen Variablen. Explorieren Sie etwaige Ausreißer.<br>\n",
    "f. Transformieren Sie die Zielvariable in eine Binärkodierung (1/0) und berechnen Sie die Pearson Korrelationskoeffizienten aller numerischen Variablen mit der Zielvariable. Gibt es Auffälligkeiten?<br>\n",
    "g. Generieren Sie deskriptive Statistiken für die kategorischen Variablen (Anzahl Merkmalsausprägungen, Anzahl Datensätze pro Merkmalsausprägung). Müssen Merkmalsausprägungen zusammengeführt werden?<br>\n",
    "h. Analysieren Sie die Verteilung der Zielvariable. Handelt es sich um eine balancierten Datensatz?"
   ]
  },
  {
   "cell_type": "code",
   "execution_count": 1,
   "id": "12d93d32",
   "metadata": {},
   "outputs": [],
   "source": [
    "# a. Importieren Sie benötigte Python Module.\n",
    "# Import von wesentlichen Modulen und Einstellungen\n",
    "# Gerne können Sie Module ergänzen oder entfernen\n",
    "import pandas as pd\n",
    "import numpy as np\n",
    "from matplotlib import pyplot as plt\n",
    "import seaborn as sns\n",
    "\n",
    "from sklearn.compose import ColumnTransformer\n",
    "from sklearn.pipeline import Pipeline\n",
    "from sklearn.preprocessing import StandardScaler, OneHotEncoder\n",
    "from sklearn.ensemble import RandomForestClassifier\n",
    "from sklearn.model_selection import train_test_split, StratifiedKFold, RandomizedSearchCV\n",
    "from sklearn.metrics import classification_report,confusion_matrix,accuracy_score\n",
    "from sklearn.metrics import precision_recall_curve, roc_auc_score, roc_curve\n",
    "from sklearn.model_selection import cross_val_score\n",
    "\n",
    "pd.set_option('display.max_columns', None)"
   ]
  },
  {
   "cell_type": "code",
   "execution_count": 2,
   "id": "b6eb51fb",
   "metadata": {},
   "outputs": [
    {
     "data": {
      "text/plain": [
       "(41188, 21)"
      ]
     },
     "execution_count": 2,
     "metadata": {},
     "output_type": "execute_result"
    }
   ],
   "source": [
    "# b. Lesen Sie diese ein. Wieviele Zeilen und Spalten hat der Datensatz?\n",
    "bank = pd.read_csv(\"bank-additional-full.csv\", sep=\";\")\n",
    "bank.shape"
   ]
  },
  {
   "cell_type": "code",
   "execution_count": 3,
   "id": "d5fd66a1",
   "metadata": {},
   "outputs": [
    {
     "data": {
      "text/html": [
       "<div>\n",
       "<style scoped>\n",
       "    .dataframe tbody tr th:only-of-type {\n",
       "        vertical-align: middle;\n",
       "    }\n",
       "\n",
       "    .dataframe tbody tr th {\n",
       "        vertical-align: top;\n",
       "    }\n",
       "\n",
       "    .dataframe thead th {\n",
       "        text-align: right;\n",
       "    }\n",
       "</style>\n",
       "<table border=\"1\" class=\"dataframe\">\n",
       "  <thead>\n",
       "    <tr style=\"text-align: right;\">\n",
       "      <th></th>\n",
       "      <th>age</th>\n",
       "      <th>job</th>\n",
       "      <th>marital</th>\n",
       "      <th>education</th>\n",
       "      <th>default</th>\n",
       "      <th>housing</th>\n",
       "      <th>loan</th>\n",
       "      <th>contact</th>\n",
       "      <th>month</th>\n",
       "      <th>day_of_week</th>\n",
       "      <th>duration</th>\n",
       "      <th>campaign</th>\n",
       "      <th>pdays</th>\n",
       "      <th>previous</th>\n",
       "      <th>poutcome</th>\n",
       "      <th>emp.var.rate</th>\n",
       "      <th>cons.price.idx</th>\n",
       "      <th>cons.conf.idx</th>\n",
       "      <th>euribor3m</th>\n",
       "      <th>nr.employed</th>\n",
       "      <th>y</th>\n",
       "    </tr>\n",
       "  </thead>\n",
       "  <tbody>\n",
       "    <tr>\n",
       "      <th>0</th>\n",
       "      <td>56</td>\n",
       "      <td>housemaid</td>\n",
       "      <td>married</td>\n",
       "      <td>basic.4y</td>\n",
       "      <td>no</td>\n",
       "      <td>no</td>\n",
       "      <td>no</td>\n",
       "      <td>telephone</td>\n",
       "      <td>may</td>\n",
       "      <td>mon</td>\n",
       "      <td>261</td>\n",
       "      <td>1</td>\n",
       "      <td>999</td>\n",
       "      <td>0</td>\n",
       "      <td>nonexistent</td>\n",
       "      <td>1.1</td>\n",
       "      <td>93.994</td>\n",
       "      <td>-36.4</td>\n",
       "      <td>4.857</td>\n",
       "      <td>5191.0</td>\n",
       "      <td>no</td>\n",
       "    </tr>\n",
       "    <tr>\n",
       "      <th>1</th>\n",
       "      <td>57</td>\n",
       "      <td>services</td>\n",
       "      <td>married</td>\n",
       "      <td>high.school</td>\n",
       "      <td>unknown</td>\n",
       "      <td>no</td>\n",
       "      <td>no</td>\n",
       "      <td>telephone</td>\n",
       "      <td>may</td>\n",
       "      <td>mon</td>\n",
       "      <td>149</td>\n",
       "      <td>1</td>\n",
       "      <td>999</td>\n",
       "      <td>0</td>\n",
       "      <td>nonexistent</td>\n",
       "      <td>1.1</td>\n",
       "      <td>93.994</td>\n",
       "      <td>-36.4</td>\n",
       "      <td>4.857</td>\n",
       "      <td>5191.0</td>\n",
       "      <td>no</td>\n",
       "    </tr>\n",
       "    <tr>\n",
       "      <th>2</th>\n",
       "      <td>37</td>\n",
       "      <td>services</td>\n",
       "      <td>married</td>\n",
       "      <td>high.school</td>\n",
       "      <td>no</td>\n",
       "      <td>yes</td>\n",
       "      <td>no</td>\n",
       "      <td>telephone</td>\n",
       "      <td>may</td>\n",
       "      <td>mon</td>\n",
       "      <td>226</td>\n",
       "      <td>1</td>\n",
       "      <td>999</td>\n",
       "      <td>0</td>\n",
       "      <td>nonexistent</td>\n",
       "      <td>1.1</td>\n",
       "      <td>93.994</td>\n",
       "      <td>-36.4</td>\n",
       "      <td>4.857</td>\n",
       "      <td>5191.0</td>\n",
       "      <td>no</td>\n",
       "    </tr>\n",
       "    <tr>\n",
       "      <th>3</th>\n",
       "      <td>40</td>\n",
       "      <td>admin.</td>\n",
       "      <td>married</td>\n",
       "      <td>basic.6y</td>\n",
       "      <td>no</td>\n",
       "      <td>no</td>\n",
       "      <td>no</td>\n",
       "      <td>telephone</td>\n",
       "      <td>may</td>\n",
       "      <td>mon</td>\n",
       "      <td>151</td>\n",
       "      <td>1</td>\n",
       "      <td>999</td>\n",
       "      <td>0</td>\n",
       "      <td>nonexistent</td>\n",
       "      <td>1.1</td>\n",
       "      <td>93.994</td>\n",
       "      <td>-36.4</td>\n",
       "      <td>4.857</td>\n",
       "      <td>5191.0</td>\n",
       "      <td>no</td>\n",
       "    </tr>\n",
       "    <tr>\n",
       "      <th>4</th>\n",
       "      <td>56</td>\n",
       "      <td>services</td>\n",
       "      <td>married</td>\n",
       "      <td>high.school</td>\n",
       "      <td>no</td>\n",
       "      <td>no</td>\n",
       "      <td>yes</td>\n",
       "      <td>telephone</td>\n",
       "      <td>may</td>\n",
       "      <td>mon</td>\n",
       "      <td>307</td>\n",
       "      <td>1</td>\n",
       "      <td>999</td>\n",
       "      <td>0</td>\n",
       "      <td>nonexistent</td>\n",
       "      <td>1.1</td>\n",
       "      <td>93.994</td>\n",
       "      <td>-36.4</td>\n",
       "      <td>4.857</td>\n",
       "      <td>5191.0</td>\n",
       "      <td>no</td>\n",
       "    </tr>\n",
       "  </tbody>\n",
       "</table>\n",
       "</div>"
      ],
      "text/plain": [
       "   age        job  marital    education  default housing loan    contact  \\\n",
       "0   56  housemaid  married     basic.4y       no      no   no  telephone   \n",
       "1   57   services  married  high.school  unknown      no   no  telephone   \n",
       "2   37   services  married  high.school       no     yes   no  telephone   \n",
       "3   40     admin.  married     basic.6y       no      no   no  telephone   \n",
       "4   56   services  married  high.school       no      no  yes  telephone   \n",
       "\n",
       "  month day_of_week  duration  campaign  pdays  previous     poutcome  \\\n",
       "0   may         mon       261         1    999         0  nonexistent   \n",
       "1   may         mon       149         1    999         0  nonexistent   \n",
       "2   may         mon       226         1    999         0  nonexistent   \n",
       "3   may         mon       151         1    999         0  nonexistent   \n",
       "4   may         mon       307         1    999         0  nonexistent   \n",
       "\n",
       "   emp.var.rate  cons.price.idx  cons.conf.idx  euribor3m  nr.employed   y  \n",
       "0           1.1          93.994          -36.4      4.857       5191.0  no  \n",
       "1           1.1          93.994          -36.4      4.857       5191.0  no  \n",
       "2           1.1          93.994          -36.4      4.857       5191.0  no  \n",
       "3           1.1          93.994          -36.4      4.857       5191.0  no  \n",
       "4           1.1          93.994          -36.4      4.857       5191.0  no  "
      ]
     },
     "execution_count": 3,
     "metadata": {},
     "output_type": "execute_result"
    }
   ],
   "source": [
    "# c. Geben Sie einige Zeilen aus.\n",
    "bank.head()"
   ]
  },
  {
   "cell_type": "code",
   "execution_count": 4,
   "id": "19a693db",
   "metadata": {},
   "outputs": [
    {
     "name": "stdout",
     "output_type": "stream",
     "text": [
      "<class 'pandas.core.frame.DataFrame'>\n",
      "RangeIndex: 41188 entries, 0 to 41187\n",
      "Data columns (total 21 columns):\n",
      " #   Column          Non-Null Count  Dtype  \n",
      "---  ------          --------------  -----  \n",
      " 0   age             41188 non-null  int64  \n",
      " 1   job             41188 non-null  object \n",
      " 2   marital         41188 non-null  object \n",
      " 3   education       41188 non-null  object \n",
      " 4   default         41188 non-null  object \n",
      " 5   housing         41188 non-null  object \n",
      " 6   loan            41188 non-null  object \n",
      " 7   contact         41188 non-null  object \n",
      " 8   month           41188 non-null  object \n",
      " 9   day_of_week     41188 non-null  object \n",
      " 10  duration        41188 non-null  int64  \n",
      " 11  campaign        41188 non-null  int64  \n",
      " 12  pdays           41188 non-null  int64  \n",
      " 13  previous        41188 non-null  int64  \n",
      " 14  poutcome        41188 non-null  object \n",
      " 15  emp.var.rate    41188 non-null  float64\n",
      " 16  cons.price.idx  41188 non-null  float64\n",
      " 17  cons.conf.idx   41188 non-null  float64\n",
      " 18  euribor3m       41188 non-null  float64\n",
      " 19  nr.employed     41188 non-null  float64\n",
      " 20  y               41188 non-null  object \n",
      "dtypes: float64(5), int64(5), object(11)\n",
      "memory usage: 6.6+ MB\n"
     ]
    }
   ],
   "source": [
    "# d. Geben Sie die Datentypen aus. Müssen wir Spalten für die Modellierung transformieren?\n",
    "bank.info()"
   ]
  },
  {
   "cell_type": "code",
   "execution_count": 5,
   "id": "84da3fe6",
   "metadata": {
    "scrolled": true
   },
   "outputs": [
    {
     "data": {
      "text/html": [
       "<div>\n",
       "<style scoped>\n",
       "    .dataframe tbody tr th:only-of-type {\n",
       "        vertical-align: middle;\n",
       "    }\n",
       "\n",
       "    .dataframe tbody tr th {\n",
       "        vertical-align: top;\n",
       "    }\n",
       "\n",
       "    .dataframe thead th {\n",
       "        text-align: right;\n",
       "    }\n",
       "</style>\n",
       "<table border=\"1\" class=\"dataframe\">\n",
       "  <thead>\n",
       "    <tr style=\"text-align: right;\">\n",
       "      <th></th>\n",
       "      <th>age</th>\n",
       "      <th>duration</th>\n",
       "      <th>campaign</th>\n",
       "      <th>pdays</th>\n",
       "      <th>previous</th>\n",
       "      <th>emp.var.rate</th>\n",
       "      <th>cons.price.idx</th>\n",
       "      <th>cons.conf.idx</th>\n",
       "      <th>euribor3m</th>\n",
       "      <th>nr.employed</th>\n",
       "    </tr>\n",
       "  </thead>\n",
       "  <tbody>\n",
       "    <tr>\n",
       "      <th>count</th>\n",
       "      <td>41188.00000</td>\n",
       "      <td>41188.000000</td>\n",
       "      <td>41188.000000</td>\n",
       "      <td>41188.000000</td>\n",
       "      <td>41188.000000</td>\n",
       "      <td>41188.000000</td>\n",
       "      <td>41188.000000</td>\n",
       "      <td>41188.000000</td>\n",
       "      <td>41188.000000</td>\n",
       "      <td>41188.000000</td>\n",
       "    </tr>\n",
       "    <tr>\n",
       "      <th>mean</th>\n",
       "      <td>40.02406</td>\n",
       "      <td>258.285010</td>\n",
       "      <td>2.567593</td>\n",
       "      <td>962.475454</td>\n",
       "      <td>0.172963</td>\n",
       "      <td>0.081886</td>\n",
       "      <td>93.575664</td>\n",
       "      <td>-40.502600</td>\n",
       "      <td>3.621291</td>\n",
       "      <td>5167.035911</td>\n",
       "    </tr>\n",
       "    <tr>\n",
       "      <th>std</th>\n",
       "      <td>10.42125</td>\n",
       "      <td>259.279249</td>\n",
       "      <td>2.770014</td>\n",
       "      <td>186.910907</td>\n",
       "      <td>0.494901</td>\n",
       "      <td>1.570960</td>\n",
       "      <td>0.578840</td>\n",
       "      <td>4.628198</td>\n",
       "      <td>1.734447</td>\n",
       "      <td>72.251528</td>\n",
       "    </tr>\n",
       "    <tr>\n",
       "      <th>min</th>\n",
       "      <td>17.00000</td>\n",
       "      <td>0.000000</td>\n",
       "      <td>1.000000</td>\n",
       "      <td>0.000000</td>\n",
       "      <td>0.000000</td>\n",
       "      <td>-3.400000</td>\n",
       "      <td>92.201000</td>\n",
       "      <td>-50.800000</td>\n",
       "      <td>0.634000</td>\n",
       "      <td>4963.600000</td>\n",
       "    </tr>\n",
       "    <tr>\n",
       "      <th>25%</th>\n",
       "      <td>32.00000</td>\n",
       "      <td>102.000000</td>\n",
       "      <td>1.000000</td>\n",
       "      <td>999.000000</td>\n",
       "      <td>0.000000</td>\n",
       "      <td>-1.800000</td>\n",
       "      <td>93.075000</td>\n",
       "      <td>-42.700000</td>\n",
       "      <td>1.344000</td>\n",
       "      <td>5099.100000</td>\n",
       "    </tr>\n",
       "    <tr>\n",
       "      <th>50%</th>\n",
       "      <td>38.00000</td>\n",
       "      <td>180.000000</td>\n",
       "      <td>2.000000</td>\n",
       "      <td>999.000000</td>\n",
       "      <td>0.000000</td>\n",
       "      <td>1.100000</td>\n",
       "      <td>93.749000</td>\n",
       "      <td>-41.800000</td>\n",
       "      <td>4.857000</td>\n",
       "      <td>5191.000000</td>\n",
       "    </tr>\n",
       "    <tr>\n",
       "      <th>75%</th>\n",
       "      <td>47.00000</td>\n",
       "      <td>319.000000</td>\n",
       "      <td>3.000000</td>\n",
       "      <td>999.000000</td>\n",
       "      <td>0.000000</td>\n",
       "      <td>1.400000</td>\n",
       "      <td>93.994000</td>\n",
       "      <td>-36.400000</td>\n",
       "      <td>4.961000</td>\n",
       "      <td>5228.100000</td>\n",
       "    </tr>\n",
       "    <tr>\n",
       "      <th>max</th>\n",
       "      <td>98.00000</td>\n",
       "      <td>4918.000000</td>\n",
       "      <td>56.000000</td>\n",
       "      <td>999.000000</td>\n",
       "      <td>7.000000</td>\n",
       "      <td>1.400000</td>\n",
       "      <td>94.767000</td>\n",
       "      <td>-26.900000</td>\n",
       "      <td>5.045000</td>\n",
       "      <td>5228.100000</td>\n",
       "    </tr>\n",
       "  </tbody>\n",
       "</table>\n",
       "</div>"
      ],
      "text/plain": [
       "               age      duration      campaign         pdays      previous  \\\n",
       "count  41188.00000  41188.000000  41188.000000  41188.000000  41188.000000   \n",
       "mean      40.02406    258.285010      2.567593    962.475454      0.172963   \n",
       "std       10.42125    259.279249      2.770014    186.910907      0.494901   \n",
       "min       17.00000      0.000000      1.000000      0.000000      0.000000   \n",
       "25%       32.00000    102.000000      1.000000    999.000000      0.000000   \n",
       "50%       38.00000    180.000000      2.000000    999.000000      0.000000   \n",
       "75%       47.00000    319.000000      3.000000    999.000000      0.000000   \n",
       "max       98.00000   4918.000000     56.000000    999.000000      7.000000   \n",
       "\n",
       "       emp.var.rate  cons.price.idx  cons.conf.idx     euribor3m   nr.employed  \n",
       "count  41188.000000    41188.000000   41188.000000  41188.000000  41188.000000  \n",
       "mean       0.081886       93.575664     -40.502600      3.621291   5167.035911  \n",
       "std        1.570960        0.578840       4.628198      1.734447     72.251528  \n",
       "min       -3.400000       92.201000     -50.800000      0.634000   4963.600000  \n",
       "25%       -1.800000       93.075000     -42.700000      1.344000   5099.100000  \n",
       "50%        1.100000       93.749000     -41.800000      4.857000   5191.000000  \n",
       "75%        1.400000       93.994000     -36.400000      4.961000   5228.100000  \n",
       "max        1.400000       94.767000     -26.900000      5.045000   5228.100000  "
      ]
     },
     "execution_count": 5,
     "metadata": {},
     "output_type": "execute_result"
    }
   ],
   "source": [
    "# e. Generieren Sie deskriptive Statistiken (Mittelwert, Standardabweichung, Min, Max-Werte) für die numerischen Variablen. Explorieren Sie etwaige Ausreißer.\n",
    "bank.describe()"
   ]
  },
  {
   "cell_type": "code",
   "execution_count": 6,
   "id": "7efd2e91",
   "metadata": {},
   "outputs": [
    {
     "data": {
      "image/png": "[encoded data removed]",
      "text/plain": [
       "<Figure size 432x288 with 1 Axes>"
      ]
     },
     "metadata": {
      "needs_background": "light"
     },
     "output_type": "display_data"
    },
    {
     "data": {
      "image/png": "[encoded data removed]",
      "text/plain": [
       "<Figure size 432x288 with 1 Axes>"
      ]
     },
     "metadata": {
      "needs_background": "light"
     },
     "output_type": "display_data"
    },
    {
     "data": {
      "image/png": "[encoded data removed]",
      "text/plain": [
       "<Figure size 432x288 with 1 Axes>"
      ]
     },
     "metadata": {
      "needs_background": "light"
     },
     "output_type": "display_data"
    },
    {
     "data": {
      "image/png": "[encoded data removed]",
      "text/plain": [
       "<Figure size 432x288 with 1 Axes>"
      ]
     },
     "metadata": {
      "needs_background": "light"
     },
     "output_type": "display_data"
    },
    {
     "data": {
      "image/png": "[encoded data removed]",
      "text/plain": [
       "<Figure size 432x288 with 1 Axes>"
      ]
     },
     "metadata": {
      "needs_background": "light"
     },
     "output_type": "display_data"
    },
    {
     "data": {
      "image/png": "[encoded data removed]",
      "text/plain": [
       "<Figure size 432x288 with 1 Axes>"
      ]
     },
     "metadata": {
      "needs_background": "light"
     },
     "output_type": "display_data"
    },
    {
     "data": {
      "image/png": "[encoded data removed]",
      "text/plain": [
       "<Figure size 432x288 with 1 Axes>"
      ]
     },
     "metadata": {
      "needs_background": "light"
     },
     "output_type": "display_data"
    },
    {
     "data": {
      "image/png": "[encoded data removed]",
      "text/plain": [
       "<Figure size 432x288 with 1 Axes>"
      ]
     },
     "metadata": {
      "needs_background": "light"
     },
     "output_type": "display_data"
    },
    {
     "data": {
      "image/png": "[encoded data removed]",
      "text/plain": [
       "<Figure size 432x288 with 1 Axes>"
      ]
     },
     "metadata": {
      "needs_background": "light"
     },
     "output_type": "display_data"
    },
    {
     "data": {
      "image/png": "[encoded data removed]",
      "text/plain": [
       "<Figure size 432x288 with 1 Axes>"
      ]
     },
     "metadata": {
      "needs_background": "light"
     },
     "output_type": "display_data"
    }
   ],
   "source": [
    "for column in bank.select_dtypes(include=np.number):\n",
    "    plt.figure()\n",
    "    bank.boxplot([column], vert=False)\n"
   ]
  },
  {
   "cell_type": "code",
   "execution_count": 7,
   "id": "7fa862ec",
   "metadata": {
    "scrolled": true
   },
   "outputs": [
    {
     "data": {
      "text/plain": [
       "<AxesSubplot:>"
      ]
     },
     "execution_count": 7,
     "metadata": {},
     "output_type": "execute_result"
    },
    {
     "data": {
      "image/png": "[encoded data removed]",
      "text/plain": [
       "<Figure size 432x288 with 1 Axes>"
      ]
     },
     "metadata": {
      "needs_background": "light"
     },
     "output_type": "display_data"
    }
   ],
   "source": [
    "# Exploration Campaign\n",
    "bank.campaign.hist()"
   ]
  },
  {
   "cell_type": "code",
   "execution_count": 8,
   "id": "23c78d74",
   "metadata": {},
   "outputs": [
    {
     "data": {
      "text/plain": [
       "<AxesSubplot:>"
      ]
     },
     "execution_count": 8,
     "metadata": {},
     "output_type": "execute_result"
    },
    {
     "data": {
      "image/png": "[encoded data removed]",
      "text/plain": [
       "<Figure size 432x288 with 1 Axes>"
      ]
     },
     "metadata": {
      "needs_background": "light"
     },
     "output_type": "display_data"
    }
   ],
   "source": [
    "bank[bank.campaign>10].campaign.hist()"
   ]
  },
  {
   "cell_type": "code",
   "execution_count": 9,
   "id": "74ade659",
   "metadata": {
    "scrolled": true
   },
   "outputs": [
    {
     "data": {
      "text/html": [
       "<div>\n",
       "<style scoped>\n",
       "    .dataframe tbody tr th:only-of-type {\n",
       "        vertical-align: middle;\n",
       "    }\n",
       "\n",
       "    .dataframe tbody tr th {\n",
       "        vertical-align: top;\n",
       "    }\n",
       "\n",
       "    .dataframe thead th {\n",
       "        text-align: right;\n",
       "    }\n",
       "</style>\n",
       "<table border=\"1\" class=\"dataframe\">\n",
       "  <thead>\n",
       "    <tr style=\"text-align: right;\">\n",
       "      <th></th>\n",
       "      <th>age</th>\n",
       "      <th>job</th>\n",
       "      <th>marital</th>\n",
       "      <th>education</th>\n",
       "      <th>default</th>\n",
       "      <th>housing</th>\n",
       "      <th>loan</th>\n",
       "      <th>contact</th>\n",
       "      <th>month</th>\n",
       "      <th>day_of_week</th>\n",
       "      <th>duration</th>\n",
       "      <th>campaign</th>\n",
       "      <th>pdays</th>\n",
       "      <th>previous</th>\n",
       "      <th>poutcome</th>\n",
       "      <th>emp.var.rate</th>\n",
       "      <th>cons.price.idx</th>\n",
       "      <th>cons.conf.idx</th>\n",
       "      <th>euribor3m</th>\n",
       "      <th>nr.employed</th>\n",
       "      <th>y</th>\n",
       "    </tr>\n",
       "  </thead>\n",
       "  <tbody>\n",
       "    <tr>\n",
       "      <th>4107</th>\n",
       "      <td>32</td>\n",
       "      <td>admin.</td>\n",
       "      <td>married</td>\n",
       "      <td>university.degree</td>\n",
       "      <td>unknown</td>\n",
       "      <td>unknown</td>\n",
       "      <td>unknown</td>\n",
       "      <td>telephone</td>\n",
       "      <td>may</td>\n",
       "      <td>mon</td>\n",
       "      <td>261</td>\n",
       "      <td>56</td>\n",
       "      <td>999</td>\n",
       "      <td>0</td>\n",
       "      <td>nonexistent</td>\n",
       "      <td>1.1</td>\n",
       "      <td>93.994</td>\n",
       "      <td>-36.4</td>\n",
       "      <td>4.858</td>\n",
       "      <td>5191.0</td>\n",
       "      <td>no</td>\n",
       "    </tr>\n",
       "    <tr>\n",
       "      <th>18728</th>\n",
       "      <td>54</td>\n",
       "      <td>admin.</td>\n",
       "      <td>married</td>\n",
       "      <td>university.degree</td>\n",
       "      <td>unknown</td>\n",
       "      <td>yes</td>\n",
       "      <td>no</td>\n",
       "      <td>cellular</td>\n",
       "      <td>jul</td>\n",
       "      <td>thu</td>\n",
       "      <td>65</td>\n",
       "      <td>43</td>\n",
       "      <td>999</td>\n",
       "      <td>0</td>\n",
       "      <td>nonexistent</td>\n",
       "      <td>1.4</td>\n",
       "      <td>93.918</td>\n",
       "      <td>-42.7</td>\n",
       "      <td>4.968</td>\n",
       "      <td>5228.1</td>\n",
       "      <td>no</td>\n",
       "    </tr>\n",
       "    <tr>\n",
       "      <th>13447</th>\n",
       "      <td>32</td>\n",
       "      <td>technician</td>\n",
       "      <td>single</td>\n",
       "      <td>university.degree</td>\n",
       "      <td>no</td>\n",
       "      <td>yes</td>\n",
       "      <td>yes</td>\n",
       "      <td>telephone</td>\n",
       "      <td>jul</td>\n",
       "      <td>wed</td>\n",
       "      <td>16</td>\n",
       "      <td>43</td>\n",
       "      <td>999</td>\n",
       "      <td>0</td>\n",
       "      <td>nonexistent</td>\n",
       "      <td>1.4</td>\n",
       "      <td>93.918</td>\n",
       "      <td>-42.7</td>\n",
       "      <td>4.962</td>\n",
       "      <td>5228.1</td>\n",
       "      <td>no</td>\n",
       "    </tr>\n",
       "    <tr>\n",
       "      <th>4168</th>\n",
       "      <td>29</td>\n",
       "      <td>technician</td>\n",
       "      <td>married</td>\n",
       "      <td>professional.course</td>\n",
       "      <td>no</td>\n",
       "      <td>yes</td>\n",
       "      <td>no</td>\n",
       "      <td>telephone</td>\n",
       "      <td>may</td>\n",
       "      <td>mon</td>\n",
       "      <td>124</td>\n",
       "      <td>42</td>\n",
       "      <td>999</td>\n",
       "      <td>0</td>\n",
       "      <td>nonexistent</td>\n",
       "      <td>1.1</td>\n",
       "      <td>93.994</td>\n",
       "      <td>-36.4</td>\n",
       "      <td>4.858</td>\n",
       "      <td>5191.0</td>\n",
       "      <td>no</td>\n",
       "    </tr>\n",
       "    <tr>\n",
       "      <th>5304</th>\n",
       "      <td>44</td>\n",
       "      <td>retired</td>\n",
       "      <td>married</td>\n",
       "      <td>basic.9y</td>\n",
       "      <td>no</td>\n",
       "      <td>yes</td>\n",
       "      <td>no</td>\n",
       "      <td>telephone</td>\n",
       "      <td>may</td>\n",
       "      <td>fri</td>\n",
       "      <td>147</td>\n",
       "      <td>42</td>\n",
       "      <td>999</td>\n",
       "      <td>0</td>\n",
       "      <td>nonexistent</td>\n",
       "      <td>1.1</td>\n",
       "      <td>93.994</td>\n",
       "      <td>-36.4</td>\n",
       "      <td>4.857</td>\n",
       "      <td>5191.0</td>\n",
       "      <td>no</td>\n",
       "    </tr>\n",
       "    <tr>\n",
       "      <th>11033</th>\n",
       "      <td>38</td>\n",
       "      <td>blue-collar</td>\n",
       "      <td>married</td>\n",
       "      <td>basic.4y</td>\n",
       "      <td>no</td>\n",
       "      <td>yes</td>\n",
       "      <td>no</td>\n",
       "      <td>telephone</td>\n",
       "      <td>jun</td>\n",
       "      <td>wed</td>\n",
       "      <td>25</td>\n",
       "      <td>41</td>\n",
       "      <td>999</td>\n",
       "      <td>0</td>\n",
       "      <td>nonexistent</td>\n",
       "      <td>1.4</td>\n",
       "      <td>94.465</td>\n",
       "      <td>-41.8</td>\n",
       "      <td>4.962</td>\n",
       "      <td>5228.1</td>\n",
       "      <td>no</td>\n",
       "    </tr>\n",
       "    <tr>\n",
       "      <th>18754</th>\n",
       "      <td>36</td>\n",
       "      <td>admin.</td>\n",
       "      <td>single</td>\n",
       "      <td>university.degree</td>\n",
       "      <td>no</td>\n",
       "      <td>no</td>\n",
       "      <td>no</td>\n",
       "      <td>cellular</td>\n",
       "      <td>jul</td>\n",
       "      <td>thu</td>\n",
       "      <td>18</td>\n",
       "      <td>40</td>\n",
       "      <td>999</td>\n",
       "      <td>0</td>\n",
       "      <td>nonexistent</td>\n",
       "      <td>1.4</td>\n",
       "      <td>93.918</td>\n",
       "      <td>-42.7</td>\n",
       "      <td>4.968</td>\n",
       "      <td>5228.1</td>\n",
       "      <td>no</td>\n",
       "    </tr>\n",
       "    <tr>\n",
       "      <th>11769</th>\n",
       "      <td>56</td>\n",
       "      <td>self-employed</td>\n",
       "      <td>married</td>\n",
       "      <td>professional.course</td>\n",
       "      <td>no</td>\n",
       "      <td>no</td>\n",
       "      <td>yes</td>\n",
       "      <td>telephone</td>\n",
       "      <td>jun</td>\n",
       "      <td>fri</td>\n",
       "      <td>13</td>\n",
       "      <td>40</td>\n",
       "      <td>999</td>\n",
       "      <td>0</td>\n",
       "      <td>nonexistent</td>\n",
       "      <td>1.4</td>\n",
       "      <td>94.465</td>\n",
       "      <td>-41.8</td>\n",
       "      <td>4.959</td>\n",
       "      <td>5228.1</td>\n",
       "      <td>no</td>\n",
       "    </tr>\n",
       "    <tr>\n",
       "      <th>4114</th>\n",
       "      <td>52</td>\n",
       "      <td>entrepreneur</td>\n",
       "      <td>married</td>\n",
       "      <td>university.degree</td>\n",
       "      <td>no</td>\n",
       "      <td>no</td>\n",
       "      <td>no</td>\n",
       "      <td>telephone</td>\n",
       "      <td>may</td>\n",
       "      <td>mon</td>\n",
       "      <td>44</td>\n",
       "      <td>39</td>\n",
       "      <td>999</td>\n",
       "      <td>0</td>\n",
       "      <td>nonexistent</td>\n",
       "      <td>1.1</td>\n",
       "      <td>93.994</td>\n",
       "      <td>-36.4</td>\n",
       "      <td>4.858</td>\n",
       "      <td>5191.0</td>\n",
       "      <td>no</td>\n",
       "    </tr>\n",
       "    <tr>\n",
       "      <th>11593</th>\n",
       "      <td>43</td>\n",
       "      <td>technician</td>\n",
       "      <td>married</td>\n",
       "      <td>high.school</td>\n",
       "      <td>no</td>\n",
       "      <td>yes</td>\n",
       "      <td>no</td>\n",
       "      <td>telephone</td>\n",
       "      <td>jun</td>\n",
       "      <td>fri</td>\n",
       "      <td>17</td>\n",
       "      <td>37</td>\n",
       "      <td>999</td>\n",
       "      <td>0</td>\n",
       "      <td>nonexistent</td>\n",
       "      <td>1.4</td>\n",
       "      <td>94.465</td>\n",
       "      <td>-41.8</td>\n",
       "      <td>4.959</td>\n",
       "      <td>5228.1</td>\n",
       "      <td>no</td>\n",
       "    </tr>\n",
       "    <tr>\n",
       "      <th>13024</th>\n",
       "      <td>31</td>\n",
       "      <td>admin.</td>\n",
       "      <td>single</td>\n",
       "      <td>high.school</td>\n",
       "      <td>no</td>\n",
       "      <td>no</td>\n",
       "      <td>no</td>\n",
       "      <td>cellular</td>\n",
       "      <td>jul</td>\n",
       "      <td>tue</td>\n",
       "      <td>21</td>\n",
       "      <td>35</td>\n",
       "      <td>999</td>\n",
       "      <td>0</td>\n",
       "      <td>nonexistent</td>\n",
       "      <td>1.4</td>\n",
       "      <td>93.918</td>\n",
       "      <td>-42.7</td>\n",
       "      <td>4.962</td>\n",
       "      <td>5228.1</td>\n",
       "      <td>no</td>\n",
       "    </tr>\n",
       "    <tr>\n",
       "      <th>10431</th>\n",
       "      <td>26</td>\n",
       "      <td>blue-collar</td>\n",
       "      <td>married</td>\n",
       "      <td>basic.9y</td>\n",
       "      <td>no</td>\n",
       "      <td>yes</td>\n",
       "      <td>no</td>\n",
       "      <td>telephone</td>\n",
       "      <td>jun</td>\n",
       "      <td>mon</td>\n",
       "      <td>102</td>\n",
       "      <td>35</td>\n",
       "      <td>999</td>\n",
       "      <td>0</td>\n",
       "      <td>nonexistent</td>\n",
       "      <td>1.4</td>\n",
       "      <td>94.465</td>\n",
       "      <td>-41.8</td>\n",
       "      <td>4.960</td>\n",
       "      <td>5228.1</td>\n",
       "      <td>no</td>\n",
       "    </tr>\n",
       "    <tr>\n",
       "      <th>18684</th>\n",
       "      <td>31</td>\n",
       "      <td>services</td>\n",
       "      <td>single</td>\n",
       "      <td>high.school</td>\n",
       "      <td>no</td>\n",
       "      <td>no</td>\n",
       "      <td>no</td>\n",
       "      <td>cellular</td>\n",
       "      <td>jul</td>\n",
       "      <td>thu</td>\n",
       "      <td>16</td>\n",
       "      <td>35</td>\n",
       "      <td>999</td>\n",
       "      <td>0</td>\n",
       "      <td>nonexistent</td>\n",
       "      <td>1.4</td>\n",
       "      <td>93.918</td>\n",
       "      <td>-42.7</td>\n",
       "      <td>4.968</td>\n",
       "      <td>5228.1</td>\n",
       "      <td>no</td>\n",
       "    </tr>\n",
       "    <tr>\n",
       "      <th>4139</th>\n",
       "      <td>52</td>\n",
       "      <td>management</td>\n",
       "      <td>married</td>\n",
       "      <td>basic.4y</td>\n",
       "      <td>unknown</td>\n",
       "      <td>no</td>\n",
       "      <td>no</td>\n",
       "      <td>telephone</td>\n",
       "      <td>may</td>\n",
       "      <td>mon</td>\n",
       "      <td>88</td>\n",
       "      <td>35</td>\n",
       "      <td>999</td>\n",
       "      <td>0</td>\n",
       "      <td>nonexistent</td>\n",
       "      <td>1.1</td>\n",
       "      <td>93.994</td>\n",
       "      <td>-36.4</td>\n",
       "      <td>4.858</td>\n",
       "      <td>5191.0</td>\n",
       "      <td>no</td>\n",
       "    </tr>\n",
       "    <tr>\n",
       "      <th>18717</th>\n",
       "      <td>40</td>\n",
       "      <td>services</td>\n",
       "      <td>married</td>\n",
       "      <td>basic.9y</td>\n",
       "      <td>no</td>\n",
       "      <td>no</td>\n",
       "      <td>no</td>\n",
       "      <td>telephone</td>\n",
       "      <td>jul</td>\n",
       "      <td>thu</td>\n",
       "      <td>21</td>\n",
       "      <td>35</td>\n",
       "      <td>999</td>\n",
       "      <td>0</td>\n",
       "      <td>nonexistent</td>\n",
       "      <td>1.4</td>\n",
       "      <td>93.918</td>\n",
       "      <td>-42.7</td>\n",
       "      <td>4.968</td>\n",
       "      <td>5228.1</td>\n",
       "      <td>no</td>\n",
       "    </tr>\n",
       "    <tr>\n",
       "      <th>12697</th>\n",
       "      <td>40</td>\n",
       "      <td>management</td>\n",
       "      <td>married</td>\n",
       "      <td>university.degree</td>\n",
       "      <td>unknown</td>\n",
       "      <td>yes</td>\n",
       "      <td>no</td>\n",
       "      <td>cellular</td>\n",
       "      <td>jul</td>\n",
       "      <td>mon</td>\n",
       "      <td>16</td>\n",
       "      <td>34</td>\n",
       "      <td>999</td>\n",
       "      <td>0</td>\n",
       "      <td>nonexistent</td>\n",
       "      <td>1.4</td>\n",
       "      <td>93.918</td>\n",
       "      <td>-42.7</td>\n",
       "      <td>4.960</td>\n",
       "      <td>5228.1</td>\n",
       "      <td>no</td>\n",
       "    </tr>\n",
       "    <tr>\n",
       "      <th>17897</th>\n",
       "      <td>37</td>\n",
       "      <td>admin.</td>\n",
       "      <td>single</td>\n",
       "      <td>high.school</td>\n",
       "      <td>no</td>\n",
       "      <td>yes</td>\n",
       "      <td>no</td>\n",
       "      <td>telephone</td>\n",
       "      <td>jul</td>\n",
       "      <td>tue</td>\n",
       "      <td>77</td>\n",
       "      <td>34</td>\n",
       "      <td>999</td>\n",
       "      <td>0</td>\n",
       "      <td>nonexistent</td>\n",
       "      <td>1.4</td>\n",
       "      <td>93.918</td>\n",
       "      <td>-42.7</td>\n",
       "      <td>4.961</td>\n",
       "      <td>5228.1</td>\n",
       "      <td>no</td>\n",
       "    </tr>\n",
       "    <tr>\n",
       "      <th>18664</th>\n",
       "      <td>38</td>\n",
       "      <td>technician</td>\n",
       "      <td>married</td>\n",
       "      <td>high.school</td>\n",
       "      <td>no</td>\n",
       "      <td>yes</td>\n",
       "      <td>yes</td>\n",
       "      <td>cellular</td>\n",
       "      <td>jul</td>\n",
       "      <td>thu</td>\n",
       "      <td>18</td>\n",
       "      <td>34</td>\n",
       "      <td>999</td>\n",
       "      <td>0</td>\n",
       "      <td>nonexistent</td>\n",
       "      <td>1.4</td>\n",
       "      <td>93.918</td>\n",
       "      <td>-42.7</td>\n",
       "      <td>4.968</td>\n",
       "      <td>5228.1</td>\n",
       "      <td>no</td>\n",
       "    </tr>\n",
       "    <tr>\n",
       "      <th>18694</th>\n",
       "      <td>47</td>\n",
       "      <td>technician</td>\n",
       "      <td>married</td>\n",
       "      <td>professional.course</td>\n",
       "      <td>no</td>\n",
       "      <td>yes</td>\n",
       "      <td>no</td>\n",
       "      <td>cellular</td>\n",
       "      <td>jul</td>\n",
       "      <td>thu</td>\n",
       "      <td>30</td>\n",
       "      <td>33</td>\n",
       "      <td>999</td>\n",
       "      <td>0</td>\n",
       "      <td>nonexistent</td>\n",
       "      <td>1.4</td>\n",
       "      <td>93.918</td>\n",
       "      <td>-42.7</td>\n",
       "      <td>4.968</td>\n",
       "      <td>5228.1</td>\n",
       "      <td>no</td>\n",
       "    </tr>\n",
       "    <tr>\n",
       "      <th>12642</th>\n",
       "      <td>54</td>\n",
       "      <td>services</td>\n",
       "      <td>married</td>\n",
       "      <td>high.school</td>\n",
       "      <td>unknown</td>\n",
       "      <td>yes</td>\n",
       "      <td>no</td>\n",
       "      <td>cellular</td>\n",
       "      <td>jul</td>\n",
       "      <td>mon</td>\n",
       "      <td>36</td>\n",
       "      <td>33</td>\n",
       "      <td>999</td>\n",
       "      <td>0</td>\n",
       "      <td>nonexistent</td>\n",
       "      <td>1.4</td>\n",
       "      <td>93.918</td>\n",
       "      <td>-42.7</td>\n",
       "      <td>4.960</td>\n",
       "      <td>5228.1</td>\n",
       "      <td>no</td>\n",
       "    </tr>\n",
       "  </tbody>\n",
       "</table>\n",
       "</div>"
      ],
      "text/plain": [
       "       age            job  marital            education  default  housing  \\\n",
       "4107    32         admin.  married    university.degree  unknown  unknown   \n",
       "18728   54         admin.  married    university.degree  unknown      yes   \n",
       "13447   32     technician   single    university.degree       no      yes   \n",
       "4168    29     technician  married  professional.course       no      yes   \n",
       "5304    44        retired  married             basic.9y       no      yes   \n",
       "11033   38    blue-collar  married             basic.4y       no      yes   \n",
       "18754   36         admin.   single    university.degree       no       no   \n",
       "11769   56  self-employed  married  professional.course       no       no   \n",
       "4114    52   entrepreneur  married    university.degree       no       no   \n",
       "11593   43     technician  married          high.school       no      yes   \n",
       "13024   31         admin.   single          high.school       no       no   \n",
       "10431   26    blue-collar  married             basic.9y       no      yes   \n",
       "18684   31       services   single          high.school       no       no   \n",
       "4139    52     management  married             basic.4y  unknown       no   \n",
       "18717   40       services  married             basic.9y       no       no   \n",
       "12697   40     management  married    university.degree  unknown      yes   \n",
       "17897   37         admin.   single          high.school       no      yes   \n",
       "18664   38     technician  married          high.school       no      yes   \n",
       "18694   47     technician  married  professional.course       no      yes   \n",
       "12642   54       services  married          high.school  unknown      yes   \n",
       "\n",
       "          loan    contact month day_of_week  duration  campaign  pdays  \\\n",
       "4107   unknown  telephone   may         mon       261        56    999   \n",
       "18728       no   cellular   jul         thu        65        43    999   \n",
       "13447      yes  telephone   jul         wed        16        43    999   \n",
       "4168        no  telephone   may         mon       124        42    999   \n",
       "5304        no  telephone   may         fri       147        42    999   \n",
       "11033       no  telephone   jun         wed        25        41    999   \n",
       "18754       no   cellular   jul         thu        18        40    999   \n",
       "11769      yes  telephone   jun         fri        13        40    999   \n",
       "4114        no  telephone   may         mon        44        39    999   \n",
       "11593       no  telephone   jun         fri        17        37    999   \n",
       "13024       no   cellular   jul         tue        21        35    999   \n",
       "10431       no  telephone   jun         mon       102        35    999   \n",
       "18684       no   cellular   jul         thu        16        35    999   \n",
       "4139        no  telephone   may         mon        88        35    999   \n",
       "18717       no  telephone   jul         thu        21        35    999   \n",
       "12697       no   cellular   jul         mon        16        34    999   \n",
       "17897       no  telephone   jul         tue        77        34    999   \n",
       "18664      yes   cellular   jul         thu        18        34    999   \n",
       "18694       no   cellular   jul         thu        30        33    999   \n",
       "12642       no   cellular   jul         mon        36        33    999   \n",
       "\n",
       "       previous     poutcome  emp.var.rate  cons.price.idx  cons.conf.idx  \\\n",
       "4107          0  nonexistent           1.1          93.994          -36.4   \n",
       "18728         0  nonexistent           1.4          93.918          -42.7   \n",
       "13447         0  nonexistent           1.4          93.918          -42.7   \n",
       "4168          0  nonexistent           1.1          93.994          -36.4   \n",
       "5304          0  nonexistent           1.1          93.994          -36.4   \n",
       "11033         0  nonexistent           1.4          94.465          -41.8   \n",
       "18754         0  nonexistent           1.4          93.918          -42.7   \n",
       "11769         0  nonexistent           1.4          94.465          -41.8   \n",
       "4114          0  nonexistent           1.1          93.994          -36.4   \n",
       "11593         0  nonexistent           1.4          94.465          -41.8   \n",
       "13024         0  nonexistent           1.4          93.918          -42.7   \n",
       "10431         0  nonexistent           1.4          94.465          -41.8   \n",
       "18684         0  nonexistent           1.4          93.918          -42.7   \n",
       "4139          0  nonexistent           1.1          93.994          -36.4   \n",
       "18717         0  nonexistent           1.4          93.918          -42.7   \n",
       "12697         0  nonexistent           1.4          93.918          -42.7   \n",
       "17897         0  nonexistent           1.4          93.918          -42.7   \n",
       "18664         0  nonexistent           1.4          93.918          -42.7   \n",
       "18694         0  nonexistent           1.4          93.918          -42.7   \n",
       "12642         0  nonexistent           1.4          93.918          -42.7   \n",
       "\n",
       "       euribor3m  nr.employed   y  \n",
       "4107       4.858       5191.0  no  \n",
       "18728      4.968       5228.1  no  \n",
       "13447      4.962       5228.1  no  \n",
       "4168       4.858       5191.0  no  \n",
       "5304       4.857       5191.0  no  \n",
       "11033      4.962       5228.1  no  \n",
       "18754      4.968       5228.1  no  \n",
       "11769      4.959       5228.1  no  \n",
       "4114       4.858       5191.0  no  \n",
       "11593      4.959       5228.1  no  \n",
       "13024      4.962       5228.1  no  \n",
       "10431      4.960       5228.1  no  \n",
       "18684      4.968       5228.1  no  \n",
       "4139       4.858       5191.0  no  \n",
       "18717      4.968       5228.1  no  \n",
       "12697      4.960       5228.1  no  \n",
       "17897      4.961       5228.1  no  \n",
       "18664      4.968       5228.1  no  \n",
       "18694      4.968       5228.1  no  \n",
       "12642      4.960       5228.1  no  "
      ]
     },
     "execution_count": 9,
     "metadata": {},
     "output_type": "execute_result"
    }
   ],
   "source": [
    "bank[bank.campaign>10].sort_values('campaign', ascending=False).head(20)"
   ]
  },
  {
   "cell_type": "code",
   "execution_count": 10,
   "id": "0b63680a",
   "metadata": {
    "scrolled": true
   },
   "outputs": [
    {
     "data": {
      "text/plain": [
       "<AxesSubplot:>"
      ]
     },
     "execution_count": 10,
     "metadata": {},
     "output_type": "execute_result"
    },
    {
     "data": {
      "image/png": "[encoded data removed]",
      "text/plain": [
       "<Figure size 432x288 with 2 Axes>"
      ]
     },
     "metadata": {
      "needs_background": "light"
     },
     "output_type": "display_data"
    }
   ],
   "source": [
    "# f. Transformieren Sie die Zielvariable in eine Binärkodierung (1/0) und berechnen Sie die Pearson Korrelationskoeffizienten aller numerischen Variablen mit der Zielvariable. Gibt es Auffälligkeiten?\n",
    "bank[\"y\"]= bank.y.replace({\"no\":0, \"yes\":1})\n",
    "corrs = bank.select_dtypes(include=np.number).corr()\n",
    "sns.heatmap(corrs)"
   ]
  },
  {
   "cell_type": "code",
   "execution_count": 11,
   "id": "1d2f0431",
   "metadata": {},
   "outputs": [
    {
     "data": {
      "text/plain": [
       "y                 1.000000\n",
       "duration          0.405274\n",
       "previous          0.230181\n",
       "cons.conf.idx     0.054878\n",
       "age               0.030399\n",
       "campaign         -0.066357\n",
       "cons.price.idx   -0.136211\n",
       "emp.var.rate     -0.298334\n",
       "euribor3m        -0.307771\n",
       "pdays            -0.324914\n",
       "nr.employed      -0.354678\n",
       "Name: y, dtype: float64"
      ]
     },
     "execution_count": 11,
     "metadata": {},
     "output_type": "execute_result"
    }
   ],
   "source": [
    "corrs['y'].sort_values(ascending=False)"
   ]
  },
  {
   "cell_type": "code",
   "execution_count": 12,
   "id": "50c10b69",
   "metadata": {
    "scrolled": false
   },
   "outputs": [
    {
     "data": {
      "text/html": [
       "<div>\n",
       "<style scoped>\n",
       "    .dataframe tbody tr th:only-of-type {\n",
       "        vertical-align: middle;\n",
       "    }\n",
       "\n",
       "    .dataframe tbody tr th {\n",
       "        vertical-align: top;\n",
       "    }\n",
       "\n",
       "    .dataframe thead th {\n",
       "        text-align: right;\n",
       "    }\n",
       "</style>\n",
       "<table border=\"1\" class=\"dataframe\">\n",
       "  <thead>\n",
       "    <tr style=\"text-align: right;\">\n",
       "      <th></th>\n",
       "      <th>job</th>\n",
       "      <th>marital</th>\n",
       "      <th>education</th>\n",
       "      <th>default</th>\n",
       "      <th>housing</th>\n",
       "      <th>loan</th>\n",
       "      <th>contact</th>\n",
       "      <th>month</th>\n",
       "      <th>day_of_week</th>\n",
       "      <th>poutcome</th>\n",
       "    </tr>\n",
       "  </thead>\n",
       "  <tbody>\n",
       "    <tr>\n",
       "      <th>count</th>\n",
       "      <td>41188</td>\n",
       "      <td>41188</td>\n",
       "      <td>41188</td>\n",
       "      <td>41188</td>\n",
       "      <td>41188</td>\n",
       "      <td>41188</td>\n",
       "      <td>41188</td>\n",
       "      <td>41188</td>\n",
       "      <td>41188</td>\n",
       "      <td>41188</td>\n",
       "    </tr>\n",
       "    <tr>\n",
       "      <th>unique</th>\n",
       "      <td>12</td>\n",
       "      <td>4</td>\n",
       "      <td>8</td>\n",
       "      <td>3</td>\n",
       "      <td>3</td>\n",
       "      <td>3</td>\n",
       "      <td>2</td>\n",
       "      <td>10</td>\n",
       "      <td>5</td>\n",
       "      <td>3</td>\n",
       "    </tr>\n",
       "    <tr>\n",
       "      <th>top</th>\n",
       "      <td>admin.</td>\n",
       "      <td>married</td>\n",
       "      <td>university.degree</td>\n",
       "      <td>no</td>\n",
       "      <td>yes</td>\n",
       "      <td>no</td>\n",
       "      <td>cellular</td>\n",
       "      <td>may</td>\n",
       "      <td>thu</td>\n",
       "      <td>nonexistent</td>\n",
       "    </tr>\n",
       "    <tr>\n",
       "      <th>freq</th>\n",
       "      <td>10422</td>\n",
       "      <td>24928</td>\n",
       "      <td>12168</td>\n",
       "      <td>32588</td>\n",
       "      <td>21576</td>\n",
       "      <td>33950</td>\n",
       "      <td>26144</td>\n",
       "      <td>13769</td>\n",
       "      <td>8623</td>\n",
       "      <td>35563</td>\n",
       "    </tr>\n",
       "  </tbody>\n",
       "</table>\n",
       "</div>"
      ],
      "text/plain": [
       "           job  marital          education default housing   loan   contact  \\\n",
       "count    41188    41188              41188   41188   41188  41188     41188   \n",
       "unique      12        4                  8       3       3      3         2   \n",
       "top     admin.  married  university.degree      no     yes     no  cellular   \n",
       "freq     10422    24928              12168   32588   21576  33950     26144   \n",
       "\n",
       "        month day_of_week     poutcome  \n",
       "count   41188       41188        41188  \n",
       "unique     10           5            3  \n",
       "top       may         thu  nonexistent  \n",
       "freq    13769        8623        35563  "
      ]
     },
     "execution_count": 12,
     "metadata": {},
     "output_type": "execute_result"
    }
   ],
   "source": [
    "# g. Generieren Sie deskriptive Statistiken für die kategorischen Variablen (Anzahl Merkmalsausprägungen, Anzahl Datensätze pro Merkmalsausprägung). Müssen Merkmalsausprägungen zusammengeführt werden?\n",
    "bank.describe(include=['O'])"
   ]
  },
  {
   "cell_type": "code",
   "execution_count": 13,
   "id": "6da3c42a",
   "metadata": {},
   "outputs": [
    {
     "name": "stdout",
     "output_type": "stream",
     "text": [
      "job\n",
      "y  job          \n",
      "0  admin.           9070\n",
      "   blue-collar      8616\n",
      "   technician       6013\n",
      "   services         3646\n",
      "   management       2596\n",
      "   entrepreneur     1332\n",
      "   retired          1286\n",
      "   self-employed    1272\n",
      "   housemaid         954\n",
      "   unemployed        870\n",
      "   student           600\n",
      "   unknown           293\n",
      "1  admin.           1352\n",
      "   technician        730\n",
      "   blue-collar       638\n",
      "   retired           434\n",
      "   management        328\n",
      "   services          323\n",
      "   student           275\n",
      "   self-employed     149\n",
      "   unemployed        144\n",
      "   entrepreneur      124\n",
      "   housemaid         106\n",
      "   unknown            37\n",
      "Name: job, dtype: int64\n",
      "\n",
      "marital\n",
      "y  marital \n",
      "0  married     22396\n",
      "   single       9948\n",
      "   divorced     4136\n",
      "   unknown        68\n",
      "1  married      2532\n",
      "   single       1620\n",
      "   divorced      476\n",
      "   unknown        12\n",
      "Name: marital, dtype: int64\n",
      "\n",
      "education\n",
      "y  education          \n",
      "0  university.degree      10498\n",
      "   high.school             8484\n",
      "   basic.9y                5572\n",
      "   professional.course     4648\n",
      "   basic.4y                3748\n",
      "   basic.6y                2104\n",
      "   unknown                 1480\n",
      "   illiterate                14\n",
      "1  university.degree       1670\n",
      "   high.school             1031\n",
      "   professional.course      595\n",
      "   basic.9y                 473\n",
      "   basic.4y                 428\n",
      "   unknown                  251\n",
      "   basic.6y                 188\n",
      "   illiterate                 4\n",
      "Name: education, dtype: int64\n",
      "\n",
      "default\n",
      "y  default\n",
      "0  no         28391\n",
      "   unknown     8154\n",
      "   yes            3\n",
      "1  no          4197\n",
      "   unknown      443\n",
      "Name: default, dtype: int64\n",
      "\n",
      "housing\n",
      "y  housing\n",
      "0  yes        19069\n",
      "   no         16596\n",
      "   unknown      883\n",
      "1  yes         2507\n",
      "   no          2026\n",
      "   unknown      107\n",
      "Name: housing, dtype: int64\n",
      "\n",
      "loan\n",
      "y  loan   \n",
      "0  no         30100\n",
      "   yes         5565\n",
      "   unknown      883\n",
      "1  no          3850\n",
      "   yes          683\n",
      "   unknown      107\n",
      "Name: loan, dtype: int64\n",
      "\n",
      "contact\n",
      "y  contact  \n",
      "0  cellular     22291\n",
      "   telephone    14257\n",
      "1  cellular      3853\n",
      "   telephone      787\n",
      "Name: contact, dtype: int64\n",
      "\n",
      "month\n",
      "y  month\n",
      "0  may      12883\n",
      "   jul       6525\n",
      "   aug       5523\n",
      "   jun       4759\n",
      "   nov       3685\n",
      "   apr       2093\n",
      "   oct        403\n",
      "   sep        314\n",
      "   mar        270\n",
      "   dec         93\n",
      "1  may        886\n",
      "   aug        655\n",
      "   jul        649\n",
      "   jun        559\n",
      "   apr        539\n",
      "   nov        416\n",
      "   oct        315\n",
      "   mar        276\n",
      "   sep        256\n",
      "   dec         89\n",
      "Name: month, dtype: int64\n",
      "\n",
      "day_of_week\n",
      "y  day_of_week\n",
      "0  mon            7667\n",
      "   thu            7578\n",
      "   wed            7185\n",
      "   tue            7137\n",
      "   fri            6981\n",
      "1  thu            1045\n",
      "   tue             953\n",
      "   wed             949\n",
      "   mon             847\n",
      "   fri             846\n",
      "Name: day_of_week, dtype: int64\n",
      "\n",
      "poutcome\n",
      "y  poutcome   \n",
      "0  nonexistent    32422\n",
      "   failure         3647\n",
      "   success          479\n",
      "1  nonexistent     3141\n",
      "   success          894\n",
      "   failure          605\n",
      "Name: poutcome, dtype: int64\n",
      "\n"
     ]
    }
   ],
   "source": [
    "for column in bank.select_dtypes(exclude=np.number):\n",
    "    print(column)\n",
    "    print(bank.groupby('y')[column].value_counts(dropna=False))\n",
    "    print()"
   ]
  },
  {
   "cell_type": "code",
   "execution_count": 14,
   "id": "a5810d1a",
   "metadata": {},
   "outputs": [
    {
     "data": {
      "text/plain": [
       "0    36548\n",
       "1     4640\n",
       "Name: y, dtype: int64"
      ]
     },
     "execution_count": 14,
     "metadata": {},
     "output_type": "execute_result"
    }
   ],
   "source": [
    "# h. Analysieren Sie die Verteilung der Zielvariable. Handelt es sich um eine balancierten Datensatz?\n",
    "bank.y.value_counts()"
   ]
  },
  {
   "cell_type": "markdown",
   "id": "59087e92",
   "metadata": {},
   "source": [
    "## Datentransformation"
   ]
  },
  {
   "cell_type": "markdown",
   "id": "b2746213",
   "metadata": {},
   "source": [
    "a. Entfernen Sie falls notwendig Datensätze.<br>\n",
    "b. Entfernen Sie falls notwendig Spalten.<br>\n",
    "c. Splitten Sie den Datensatz in Train (80%) und Test Set (20%). Achten Sie darauf, dass die Zielvariable jeweils gleich verteilt ist.<br>\n",
    "d. Muss eine Leerwertauffüllung durchgeführt werden?<br>\n",
    "e. Führen Sie eine Standardisierung der numerischen Variablen und ein One-Hot-Encoding der kategorischen Variablen durch.<br>"
   ]
  },
  {
   "cell_type": "code",
   "execution_count": 15,
   "id": "07c7c1fa",
   "metadata": {},
   "outputs": [],
   "source": [
    "# a. Entfernen Sie falls notwendig Datensätze.\n",
    "\n",
    "# Datensätze mit default=\"yes\" sollten entfernt werden da sie sehr selten auftreten und weil keine Abschlüsse auftreten.\n",
    "bank = bank[bank.default!=\"yes\"]"
   ]
  },
  {
   "cell_type": "code",
   "execution_count": 16,
   "id": "bf1d1399",
   "metadata": {},
   "outputs": [],
   "source": [
    "# b. Entfernen Sie falls notwendig Spalten.\n",
    "\n",
    "# Die Spalte duration sollte entfernt werden weil hier eine rückwärtsgerichtete Kausalität auftritt.\n",
    "bank.drop(columns=[\"duration\"], inplace=True)"
   ]
  },
  {
   "cell_type": "code",
   "execution_count": 17,
   "id": "435fdd71",
   "metadata": {},
   "outputs": [],
   "source": [
    "# c. Splitten Sie den Datensatz in Train (80%) und Test Set (20%). Achten Sie darauf, dass die Zielvariable jeweils gleich verteilt ist.\n",
    "X_train, X_test, y_train, y_test = train_test_split(bank.drop(\"y\", axis=1),bank[\"y\"],test_size=0.2, random_state=99, stratify=bank[\"y\"])"
   ]
  },
  {
   "cell_type": "code",
   "execution_count": 18,
   "id": "dd2c7950",
   "metadata": {},
   "outputs": [
    {
     "name": "stdout",
     "output_type": "stream",
     "text": [
      "Anzahl Leerwerte: 0\n"
     ]
    }
   ],
   "source": [
    "# d. Muss eine Leerwertauffüllung durchgeführt werden?\n",
    "print(\"Anzahl Leerwerte: {}\".format(bank.isna().sum().sum()))"
   ]
  },
  {
   "cell_type": "code",
   "execution_count": 19,
   "id": "563962e9",
   "metadata": {},
   "outputs": [],
   "source": [
    "# e. Führen Sie eine Standardisierung der numerischen Variablen und ein One-Hot-Encoding der kategorischen Variablen durch.\n",
    "numeric_features=X_train.select_dtypes(include=np.number).columns\n",
    "categorical_features=X_train.select_dtypes(exclude=np.number).columns\n",
    "\n",
    "numeric_transformer = StandardScaler()\n",
    "categorical_transformer=OneHotEncoder()\n",
    "\n",
    "preprocessor=ColumnTransformer(\n",
    "    transformers=[\n",
    "        (\"num\", numeric_transformer, numeric_features),\n",
    "        (\"cat\", categorical_transformer, categorical_features)       \n",
    "    ]\n",
    ")"
   ]
  },
  {
   "cell_type": "markdown",
   "id": "e8963942",
   "metadata": {},
   "source": [
    "## Modellierung"
   ]
  },
  {
   "cell_type": "markdown",
   "id": "77f314cd",
   "metadata": {},
   "source": [
    "a. Nutzen Sie den [RandomForestClassifier](https://scikit-learn.org/stable/modules/generated/sklearn.ensemble.RandomForestClassifier.html) mit den Standardeinstellungen. Nehmen Sie lediglich eine Einstellung vor, damit die Unbalanciertheit ausgeglichen wird. Nutzen Sie [get_params](), um die Parametereinstellungen auszugeben.\n",
    "b. Bestimmen Sie die [AUC: Area Under the Receiver Operating Characteristic Curve](https://scikit-learn.org/stable/modules/generated/sklearn.metrics.roc_auc_score.html) des Modells für den **Trainingsdatensatz**. <br>\n",
    "c. Nutzen Sie Kreuzvalidierung ([scikit-learn cross_val_score](https://scikit-learn.org/stable/modules/generated/sklearn.model_selection.cross_val_score.html)) auf dem **Trainingsdatensatz**, um die AUC des berechneten Modells für unbekannte Daten zu bestimmen. Liegt Überanpassung (Overfitting) vor?<br>\n",
    "d. Führen Sie für den RandomForestClassifier eine Hyperparameteroptimierung durch. Fokussieren Sie sich zunächst auf die Parameter n_estimators, max_features und max_depth. Nutzen Sie hierfür entweder [RandomizedSearchCV](https://scikit-learn.org/stable/modules/generated/sklearn.model_selection.RandomizedSearchCV.html) oder [GridSearchCV](https://scikit-learn.org/stable/modules/generated/sklearn.model_selection.GridSearchCV.html). Geben Sie die Modellparameter sowie den AUC-Wert des besten Modells aus. \n",
    "e. Berechnen Sie den AUC-Wert des optimierten Modells für den **Trainingsdatensatz**. Konnten Sie das Problem der Überanpassung reduzieren?"
   ]
  },
  {
   "cell_type": "code",
   "execution_count": 20,
   "id": "a5d854e5",
   "metadata": {},
   "outputs": [
    {
     "name": "stdout",
     "output_type": "stream",
     "text": [
      "CPU times: total: 3.91 s\n",
      "Wall time: 3.92 s\n"
     ]
    },
    {
     "data": {
      "text/plain": [
       "{'memory': None,\n",
       " 'steps': [('preprocessor',\n",
       "   ColumnTransformer(transformers=[('num', StandardScaler(),\n",
       "                                    Index(['age', 'campaign', 'pdays', 'previous', 'emp.var.rate',\n",
       "          'cons.price.idx', 'cons.conf.idx', 'euribor3m', 'nr.employed'],\n",
       "         dtype='object')),\n",
       "                                   ('cat', OneHotEncoder(),\n",
       "                                    Index(['job', 'marital', 'education', 'default', 'housing', 'loan', 'contact',\n",
       "          'month', 'day_of_week', 'poutcome'],\n",
       "         dtype='object'))])),\n",
       "  ('classifier',\n",
       "   RandomForestClassifier(class_weight='balanced', random_state=99))],\n",
       " 'verbose': False,\n",
       " 'preprocessor': ColumnTransformer(transformers=[('num', StandardScaler(),\n",
       "                                  Index(['age', 'campaign', 'pdays', 'previous', 'emp.var.rate',\n",
       "        'cons.price.idx', 'cons.conf.idx', 'euribor3m', 'nr.employed'],\n",
       "       dtype='object')),\n",
       "                                 ('cat', OneHotEncoder(),\n",
       "                                  Index(['job', 'marital', 'education', 'default', 'housing', 'loan', 'contact',\n",
       "        'month', 'day_of_week', 'poutcome'],\n",
       "       dtype='object'))]),\n",
       " 'classifier': RandomForestClassifier(class_weight='balanced', random_state=99),\n",
       " 'preprocessor__n_jobs': None,\n",
       " 'preprocessor__remainder': 'drop',\n",
       " 'preprocessor__sparse_threshold': 0.3,\n",
       " 'preprocessor__transformer_weights': None,\n",
       " 'preprocessor__transformers': [('num',\n",
       "   StandardScaler(),\n",
       "   Index(['age', 'campaign', 'pdays', 'previous', 'emp.var.rate',\n",
       "          'cons.price.idx', 'cons.conf.idx', 'euribor3m', 'nr.employed'],\n",
       "         dtype='object')),\n",
       "  ('cat',\n",
       "   OneHotEncoder(),\n",
       "   Index(['job', 'marital', 'education', 'default', 'housing', 'loan', 'contact',\n",
       "          'month', 'day_of_week', 'poutcome'],\n",
       "         dtype='object'))],\n",
       " 'preprocessor__verbose': False,\n",
       " 'preprocessor__verbose_feature_names_out': True,\n",
       " 'preprocessor__num': StandardScaler(),\n",
       " 'preprocessor__cat': OneHotEncoder(),\n",
       " 'preprocessor__num__copy': True,\n",
       " 'preprocessor__num__with_mean': True,\n",
       " 'preprocessor__num__with_std': True,\n",
       " 'preprocessor__cat__categories': 'auto',\n",
       " 'preprocessor__cat__drop': None,\n",
       " 'preprocessor__cat__dtype': numpy.float64,\n",
       " 'preprocessor__cat__handle_unknown': 'error',\n",
       " 'preprocessor__cat__sparse': True,\n",
       " 'classifier__bootstrap': True,\n",
       " 'classifier__ccp_alpha': 0.0,\n",
       " 'classifier__class_weight': 'balanced',\n",
       " 'classifier__criterion': 'gini',\n",
       " 'classifier__max_depth': None,\n",
       " 'classifier__max_features': 'auto',\n",
       " 'classifier__max_leaf_nodes': None,\n",
       " 'classifier__max_samples': None,\n",
       " 'classifier__min_impurity_decrease': 0.0,\n",
       " 'classifier__min_samples_leaf': 1,\n",
       " 'classifier__min_samples_split': 2,\n",
       " 'classifier__min_weight_fraction_leaf': 0.0,\n",
       " 'classifier__n_estimators': 100,\n",
       " 'classifier__n_jobs': None,\n",
       " 'classifier__oob_score': False,\n",
       " 'classifier__random_state': 99,\n",
       " 'classifier__verbose': 0,\n",
       " 'classifier__warm_start': False}"
      ]
     },
     "execution_count": 20,
     "metadata": {},
     "output_type": "execute_result"
    }
   ],
   "source": [
    "%%time\n",
    "# a. Nutzen Sie den [RandomForestClassifier](https://scikit-learn.org/stable/modules/generated/sklearn.ensemble.RandomForestClassifier.html) mit den Standardeinstellungen. Nehmen Sie lediglich eine Einstellung vor, damit die Unbalanciertheit ausgeglichen wird. Nutzen Sie [get_params](), um die Parametereinstellungen auszugeben.\n",
    "clf = Pipeline(\n",
    "    steps=[(\"preprocessor\", preprocessor), (\"classifier\", RandomForestClassifier(class_weight=\"balanced\", random_state=99))]\n",
    ")\n",
    "clf.fit(X_train, y_train)\n",
    "clf.get_params()"
   ]
  },
  {
   "cell_type": "code",
   "execution_count": 21,
   "id": "52f70279",
   "metadata": {},
   "outputs": [
    {
     "name": "stdout",
     "output_type": "stream",
     "text": [
      "Accuracy: 0.994\n",
      "AUC: 0.999\n"
     ]
    }
   ],
   "source": [
    "# b. Bestimmen Sie die [AUC: Area Under the Receiver Operating Characteristic Curve](https://scikit-learn.org/stable/modules/generated/sklearn.metrics.roc_auc_score.html) des Modells für den **Trainingsdatensatz**.\n",
    "y_pred=clf.predict(X_train)\n",
    "y_pred_proba=clf.predict_proba(X_train)[:,1]\n",
    "print(\"Accuracy: %.3f\" % clf.score(X_train, y_train))\n",
    "print(\"AUC: %.3f\" % roc_auc_score(y_train, y_pred_proba))"
   ]
  },
  {
   "cell_type": "code",
   "execution_count": 22,
   "id": "0b22d3d1",
   "metadata": {
    "scrolled": true
   },
   "outputs": [
    {
     "name": "stdout",
     "output_type": "stream",
     "text": [
      "individual scores: [0.78226544 0.76161667 0.7724204  0.75833349]\n",
      "mean score: 0.7686590008008549\n",
      "CPU times: total: 12.2 s\n",
      "Wall time: 12.4 s\n"
     ]
    }
   ],
   "source": [
    "%%time\n",
    "# c. Nutzen Sie Kreuzvalidierung (scikit-learn cross_val_score) auf dem Trainingsdatensatz, um die AUC für unbekannte Daten zu bestimmen. Liegt Überanpassung (Overfitting) vor?\n",
    "scores = cross_val_score(clf, X_train, y_train, cv=4, scoring='roc_auc')\n",
    "print(\"individual scores: {}\".format(scores))\n",
    "print(\"mean score: {}\".format(np.mean(scores)))"
   ]
  },
  {
   "cell_type": "code",
   "execution_count": 23,
   "id": "9b566872",
   "metadata": {},
   "outputs": [
    {
     "name": "stdout",
     "output_type": "stream",
     "text": [
      "Best AUC: 0.7969380123501658\n",
      "Best params: {'classifier__n_estimators': 200, 'classifier__max_features': 'auto', 'classifier__max_depth': 8}\n",
      "CPU times: total: 8.25 s\n",
      "Wall time: 2min 39s\n"
     ]
    }
   ],
   "source": [
    "%%time\n",
    "#d. Führen Sie für den RandomForestClassifier eine Hyperparameteroptimierung durch. Fokussieren Sie sich zunächst auf die Parameter n_estimators, max_features und max_depth. Nutzen Sie hierfür entweder [RandomizedSearchCV](https://scikit-learn.org/stable/modules/generated/sklearn.model_selection.RandomizedSearchCV.html) oder [GridSearchCV](https://scikit-learn.org/stable/modules/generated/sklearn.model_selection.GridSearchCV.html).\n",
    "\n",
    "n_estimators = [int(x) for x in np.linspace(start = 50, stop = 200, num = 10)]\n",
    "\n",
    "# number of features at every split\n",
    "max_features = ['auto', 'sqrt']\n",
    "\n",
    "# max depth\n",
    "max_depth = [int(x) for x in np.linspace(4, 18, num = 7)]\n",
    "max_depth.append(None)\n",
    "\n",
    "# create random grid\n",
    "random_grid = {\n",
    " 'classifier__n_estimators': n_estimators,\n",
    " 'classifier__max_features': max_features,\n",
    " 'classifier__max_depth': max_depth\n",
    " }\n",
    "\n",
    "# define evaluation procedure\n",
    "cv = StratifiedKFold(n_splits=3)\n",
    "\n",
    "# define grid search\n",
    "rfc_random = RandomizedSearchCV(estimator=clf, param_distributions=random_grid, n_jobs=-1, cv=cv, scoring='roc_auc', n_iter=32, random_state=99)\n",
    "search = rfc_random.fit(X_train, y_train)\n",
    "\n",
    "# result\n",
    "print(\"Best AUC: {}\".format(rfc_random.best_score_))\n",
    "print(\"Best params: {}\".format(rfc_random.best_params_))"
   ]
  },
  {
   "cell_type": "code",
   "execution_count": 24,
   "id": "c452a033",
   "metadata": {},
   "outputs": [
    {
     "name": "stdout",
     "output_type": "stream",
     "text": [
      "Accuracy Optimized: 0.994\n",
      "AUC Optimized: 0.826\n"
     ]
    }
   ],
   "source": [
    "# e. Berechnen Sie den AUC-Wert des optimierten Modells für den **Trainingsdatensatz**. Konnten Sie das Problem der Überanpassung reduzieren?\n",
    "y_pred_random=rfc_random.predict(X_train)\n",
    "y_pred_proba_random=rfc_random.predict_proba(X_train)[:,1]\n",
    "print(\"Accuracy Optimized: %.3f\" % clf.score(X_train, y_train))\n",
    "print(\"AUC Optimized: %.3f\" % roc_auc_score(y_train, y_pred_proba_random))"
   ]
  },
  {
   "cell_type": "markdown",
   "id": "7c582c79",
   "metadata": {},
   "source": [
    "## Modellgüte"
   ]
  },
  {
   "cell_type": "markdown",
   "id": "f4ad7516",
   "metadata": {},
   "source": [
    "a. Wenden Sie sich nun dem Testdatensatz zu. Berechnen Sie die prognostizierten Klassenzugehörigkeiten und stellen Sie die [confusion_matrix](https://scikit-learn.org/stable/modules/generated/sklearn.metrics.confusion_matrix.html) dar. Geben Sie auch den AUC-Wert an.<br>\n",
    "b. Nutzen Sie [classification_report](https://scikit-learn.org/stable/modules/generated/sklearn.metrics.classification_report.html), um Precision, Recall und F1-Score zu berechnen.<br>\n",
    "c. Nutzen Sie [precision_recall_curve](https://scikit-learn.org/stable/modules/generated/sklearn.metrics.precision_recall_curve.html), um den Verlauf von Precision und Recall in Abhängigkeit des Klassifikationsschwellenwertes darzustellen.<br>\n",
    "d. Was wäre für den beschriebenen Anwendungsfall ein geeigneter Klassifikationsschwellwert? Berechnen Sie die [F1-Scores](https://en.wikipedia.org/wiki/F-score). Bei welchem Klassifikationsschwellenwert nimmt der F1-Score einen Maximalwert an?<br>\n",
    "e. Nehmen Sie den eben berechneten Maximalwert als Klassifikationsschwellwert und berechnen Sie den [classification_report](https://scikit-learn.org/stable/modules/generated/sklearn.metrics.classification_report.html) neu.\n"
   ]
  },
  {
   "cell_type": "code",
   "execution_count": 25,
   "id": "8901393f",
   "metadata": {},
   "outputs": [
    {
     "data": {
      "image/png": "[encoded data removed]",
      "text/plain": [
       "<Figure size 432x288 with 2 Axes>"
      ]
     },
     "metadata": {
      "needs_background": "light"
     },
     "output_type": "display_data"
    }
   ],
   "source": [
    "# a. Wenden Sie sich nun dem Testdatensatz zu. Berechnen Sie die prognostizierten Klassenzugehörigkeiten und stellen Sie die [confusion_matrix](https://scikit-learn.org/stable/modules/generated/sklearn.metrics.confusion_matrix.html) dar. Geben Sie auch den AUC-Wert an.\n",
    "y_pred_test=rfc_random.predict(X_test)\n",
    "y_pred_proba_test=rfc_random.predict_proba(X_test)[:,1]\n",
    "cm=confusion_matrix(y_test, y_pred_test) \n",
    "cm_df = pd.DataFrame(cm,\n",
    "                     index = ['No', 'Yes'], \n",
    "                     columns = ['No', 'Yes'])\n",
    "#plt.figure(figsize=(10,8))\n",
    "sns.heatmap(cm_df, annot=True, fmt=\"d\", cmap='Blues')\n",
    "plt.title('Random Forest \\nAUC:{0:.3f}'.format(roc_auc_score(y_test, y_pred_proba_test)))\n",
    "plt.ylabel('True Values')\n",
    "plt.xlabel('Predicted Values')\n",
    "plt.show()"
   ]
  },
  {
   "cell_type": "code",
   "execution_count": 26,
   "id": "d1c20028",
   "metadata": {},
   "outputs": [
    {
     "name": "stdout",
     "output_type": "stream",
     "text": [
      "              precision    recall  f1-score   support\n",
      "\n",
      "          No       0.95      0.87      0.91      7309\n",
      "         Yes       0.38      0.62      0.47       928\n",
      "\n",
      "    accuracy                           0.84      8237\n",
      "   macro avg       0.66      0.75      0.69      8237\n",
      "weighted avg       0.88      0.84      0.86      8237\n",
      "\n"
     ]
    }
   ],
   "source": [
    "# b. Nutzen Sie [classification_report](https://scikit-learn.org/stable/modules/generated/sklearn.metrics.classification_report.html), um Precision, Recall und F1-Score zu berechnen.\n",
    "target_names = ['No', 'Yes']\n",
    "print(classification_report(y_test, y_pred_test,target_names=target_names))"
   ]
  },
  {
   "cell_type": "code",
   "execution_count": 27,
   "id": "25bb54cf",
   "metadata": {
    "scrolled": true
   },
   "outputs": [
    {
     "data": {
      "image/png": "[encoded data removed]",
      "text/plain": [
       "<Figure size 864x576 with 1 Axes>"
      ]
     },
     "metadata": {
      "needs_background": "light"
     },
     "output_type": "display_data"
    }
   ],
   "source": [
    "# c. Nutzen Sie [precision_recall_curve](https://scikit-learn.org/stable/modules/generated/sklearn.metrics.precision_recall_curve.html), um den Verlauf von Precision und Recall in Abhängigkeit des Klassifikationsschwellenwertes darzustellen.\n",
    "y_pred_testprob=rfc_random.predict_proba(X_test)[:,1]\n",
    "precisions, recalls, thresholds = precision_recall_curve(y_test, y_pred_testprob)\n",
    "f1_scores = 2*recalls*precisions/((recalls+precisions)+0.0000000001) # Vermeidung Nulldivision\n",
    "\n",
    "def plot_precision_recall_curve(precisions, recalls, thresholds, f1_scores):\n",
    "    fig, ax = plt.subplots(figsize=(12,8))\n",
    "    plt.plot(thresholds, precisions[:-1], \"r--\", label=\"Precisions\")\n",
    "    plt.plot(thresholds, recalls[:-1], \"#424242\", label=\"Recalls\")\n",
    "    plt.plot(thresholds, f1_scores[:-1], \"b--\", label=\"F1 Score\")\n",
    "    plt.title(\"Precision and Recall \\n Tradeoff\", fontsize=18)\n",
    "    plt.ylabel(\"Level of Precision and Recall\", fontsize=16)\n",
    "    plt.xlabel(\"Thresholds\", fontsize=16)\n",
    "    plt.legend(loc=\"best\", fontsize=14)\n",
    "    plt.xlim([0,1])\n",
    "    plt.ylim([0, 1])\n",
    " \n",
    "plot_precision_recall_curve(precisions, recalls, thresholds, f1_scores)\n",
    "plt.show()"
   ]
  },
  {
   "cell_type": "code",
   "execution_count": 28,
   "id": "1bf22201",
   "metadata": {},
   "outputs": [
    {
     "name": "stdout",
     "output_type": "stream",
     "text": [
      "best threshold: 0.657\n"
     ]
    }
   ],
   "source": [
    "# d. Was wäre für den beschriebenen Anwendungsfall ein geeigneter Klassifikationsschwellwert? Berechnen Sie die [F1-Scores](https://en.wikipedia.org/wiki/F-score). Bei welchem Klassifikationsschwellenwert nimmt der F1-Score einen Maximalwert an?\n",
    "best_threshold = thresholds[np.argmax(f1_scores)]\n",
    "print(\"best threshold: {:.3f}\".format(best_threshold))"
   ]
  },
  {
   "cell_type": "code",
   "execution_count": 29,
   "id": "c4b20e73",
   "metadata": {},
   "outputs": [
    {
     "name": "stdout",
     "output_type": "stream",
     "text": [
      "              precision    recall  f1-score   support\n",
      "\n",
      "          No       0.94      0.91      0.93      7309\n",
      "         Yes       0.45      0.56      0.50       928\n",
      "\n",
      "    accuracy                           0.87      8237\n",
      "   macro avg       0.70      0.74      0.72      8237\n",
      "weighted avg       0.89      0.87      0.88      8237\n",
      "\n"
     ]
    }
   ],
   "source": [
    "# e. Nehmen Sie den eben berechneten Maximalwert als Klassifikationsschwellwert und berechnen Sie den [classification_report](https://scikit-learn.org/stable/modules/generated/sklearn.metrics.classification_report.html) neu.\n",
    "y_pred_thres = (y_pred_testprob >= best_threshold).astype(bool)\n",
    "target_names = ['No', 'Yes']\n",
    "print(classification_report(y_test, y_pred_thres,target_names=target_names))"
   ]
  },
  {
   "cell_type": "markdown",
   "id": "bce0da9c",
   "metadata": {},
   "source": [
    "## Optimale Werbemenge"
   ]
  },
  {
   "cell_type": "markdown",
   "id": "7e656612",
   "metadata": {},
   "source": [
    "a. Analysieren sie zunächst die Variablenwichtigkeiten des optimierten Modells. Stellen Sie die 10 wichtigsten Variablen grafisch dar.<br>\n",
    "b. Welche Ratschläge würden Sie der Bank auf Basis der Variablenwichtigkeiten geben?<br>\n",
    "c. Nehmen Sie vereinfachend an, dass die Kunden des Testdatensatzes noch keiner Werbemaßnahme zugeführt wurden und Sie entprechend die Kundenreaktion nicht kennen. Erstellen Sie aus dem Testdatensatz einen fiktiven Vorhersagedatensatz (\"prediction set\"), in dem Sie den Testdatensatz kopieren und die externen Einflussfaktoren fixieren: Ersetzen Sie folgende Spalten mit dem jeweiligen Median: \"emp.var.rate\", \"cons.price.idx\", \"cons.conf.idx\", \"euribor3m\", \"nr.employed\". Bestimmen Sie für den so konstruierten Vorhersagedatensatz unter folgenden Annahmen die optimale Werbemenge: Fixkosten der Werbemaßname: 2000€, variable Kosten der Werbemaßnahme pro Kunde: 30€, Deckungsbeitrag pro erfolgreichem Abschluss: 100 €. Nutzen Sie dabei die Klassenwahrscheinlichkeit [predict_proba](https://scikit-learn.org/stable/modules/generated/sklearn.ensemble.RandomForestClassifier.html#sklearn.ensemble.RandomForestClassifier.predict_proba) als Kaufwahrscheinlichkeit. Stellen Sie zudem den Zusammenhang aus Werbemenge und Kampagnenertrag grafisch dar.  "
   ]
  },
  {
   "cell_type": "code",
   "execution_count": 30,
   "id": "c14b67e6",
   "metadata": {
    "scrolled": false
   },
   "outputs": [
    {
     "data": {
      "text/plain": [
       "<AxesSubplot:>"
      ]
     },
     "execution_count": 30,
     "metadata": {},
     "output_type": "execute_result"
    },
    {
     "data": {
      "image/png": "[encoded data removed]",
      "text/plain": [
       "<Figure size 432x288 with 1 Axes>"
      ]
     },
     "metadata": {
      "needs_background": "light"
     },
     "output_type": "display_data"
    }
   ],
   "source": [
    "# a. Analysieren sie zunächst die Variablenwichtigkeiten des optimierten Modells. Stellen Sie die 10 wichtigsten Variablen grafisch dar.\n",
    "importances = rfc_random.best_estimator_.steps[1][1].feature_importances_\n",
    "# Achtung: dieser Schritt benötigt eine aktuelle scikit-learn version!\n",
    "forest_importances = pd.Series(importances, index=clf.steps[0][1].get_feature_names_out())\n",
    "forest_importances.sort_values(ascending=False)[0:10].plot(kind='bar')"
   ]
  },
  {
   "cell_type": "code",
   "execution_count": 31,
   "id": "f47ae995",
   "metadata": {},
   "outputs": [
    {
     "data": {
      "text/plain": [
       "y                         1.000000\n",
       "num__age                  0.007200\n",
       "num__nr.employed          0.004815\n",
       "num__pdays                0.001842\n",
       "num__euribor3m            0.001833\n",
       "cat__contact_telephone    0.001085\n",
       "num__emp.var.rate         0.001050\n",
       "num__cons.conf.idx       -0.000100\n",
       "cat__month_may           -0.001916\n",
       "num__cons.price.idx      -0.002971\n",
       "cat__poutcome_success    -0.003578\n",
       "Name: y, dtype: float64"
      ]
     },
     "execution_count": 31,
     "metadata": {},
     "output_type": "execute_result"
    }
   ],
   "source": [
    "# correlation analysis to guess influence direction\n",
    "# get scales and encoded data set as data frame\n",
    "X_train_prepared = preprocessor.transform(X_train)\n",
    "X_train_prepared_df = pd.DataFrame(X_train_prepared, columns=preprocessor.get_feature_names_out())\n",
    "X_train_prepared_df[\"y\"]=y_train\n",
    "\n",
    "# select important variables and calculate correlation coefficients\n",
    "preds=list(forest_importances.sort_values(ascending=False).index[0:10])\n",
    "preds.append('y')\n",
    "preds_corr=X_train_prepared_df[preds].corr()\n",
    "preds_corr[\"y\"].sort_values(ascending=False)"
   ]
  },
  {
   "cell_type": "markdown",
   "id": "5657ba1e",
   "metadata": {},
   "source": [
    "b. Welche Ratschläge würden Sie der Bank auf Basis der Variablenwichtigkeiten geben?<br>\n",
    "- Die Makroökonomischen Faktoren (Leitzins, Arbeitslosenrate, Vertrauensindex) spielen für den Kampagnenerfolg eine entscheidende Rolle und sollten bei der Kampagnenterminierung berücksichtigt werden.\n",
    "- pdays: Steht die Bank mit den Kunden im regelmäßigen Kontakt ist die Abschlusswahrscheinlichkeit höher. Es sollte intensiv in eine regelmäßige Kundenbindung investiert werden.\n",
    "- num_age: Ältere Kunden haben eine höhere Abschlusswahrscheinlichkeit.\n",
    "- poutcome_success: Haben Kunden in Vorkampagnen bereits abgeschlossen ist die Abschlusswahrscheinlichkeit geringer.\n",
    "- contact_telephone: Das Festnetztelefon ist der erfolgreichere Abschlusskanal.\n",
    "- month_may: Im Monat Mai machen Kunden tendenziell weniger Abschlüsse."
   ]
  },
  {
   "cell_type": "markdown",
   "id": "10d70054",
   "metadata": {},
   "source": [
    "c. Nehmen Sie vereinfachend an, dass die Kunden des Testdatensatzes noch keiner Werbemaßnahme zugeführt wurden und Sie entprechend die Kundenreaktion nicht kennen. Erstellen Sie aus dem Testdatensatz einen fiktiven Vorhersagedatensatz (\"prediction set\"), in dem Sie den Testdatensatz kopieren und die externen Einflussfaktoren fixieren: Ersetzen Sie folgende Spalten mit dem jeweiligen Median: \"emp.var.rate\", \"cons.price.idx\", \"cons.conf.idx\", \"euribor3m\", \"nr.employed\". Bestimmen Sie für den so konstruierten Vorhersagedatensatz unter folgenden Annahmen die optimale Werbemenge: Fixkosten der Werbemaßname: 2000€, variable Kosten der Werbemaßnahme pro Kunde: 30€, Deckungsbeitrag pro erfolgreichem Abschluss: 100 €. Nutzen Sie dabei die Klassenwahrscheinlichkeit [predict_proba](https://scikit-learn.org/stable/modules/generated/sklearn.ensemble.RandomForestClassifier.html#sklearn.ensemble.RandomForestClassifier.predict_proba) als Kaufwahrscheinlichkeit. Stellen Sie zudem den Zusammenhang aus Werbemenge und Kampagnenertrag grafisch dar."
   ]
  },
  {
   "cell_type": "code",
   "execution_count": 32,
   "id": "aff9c455",
   "metadata": {},
   "outputs": [
    {
     "data": {
      "text/plain": [
       "Text(0.5, 1.0, 'Ertragskurve (Maximalertrag 17448€ bei Werbemenge 5178)')"
      ]
     },
     "execution_count": 32,
     "metadata": {},
     "output_type": "execute_result"
    },
    {
     "data": {
      "image/png": "[encoded data removed]",
      "text/plain": [
       "<Figure size 432x288 with 1 Axes>"
      ]
     },
     "metadata": {
      "needs_background": "light"
     },
     "output_type": "display_data"
    }
   ],
   "source": [
    "# create prediction data set\n",
    "X_prediction = X_test.copy()\n",
    "y_prediction = y_test.copy()\n",
    "\n",
    "# fixate external variables to median\n",
    "external_variables = [\"emp.var.rate\", \"cons.price.idx\", \"cons.conf.idx\", \"euribor3m\", \"nr.employed\"]\n",
    "for external in external_variables:\n",
    "    external_median = X_prediction[external].median()\n",
    "    X_prediction[external] = external_median\n",
    "    \n",
    "# calculate and sort probailities\n",
    "y_predprob=rfc_random.predict_proba(X_prediction)[:,1].tolist()\n",
    "y_predprob.sort(reverse=True)\n",
    "\n",
    "# Calculate campaign result in relation to campaign size\n",
    "cost = y_predprob[0]*100-30-2000\n",
    "costlist=[cost]\n",
    "i=1\n",
    "while i<len(y_predprob):\n",
    "    cost = costlist[i-1]+y_predprob[i]*100-30\n",
    "    costlist.append(cost)\n",
    "    i+=1\n",
    "    \n",
    "# Plot result\n",
    "plt.plot(costlist)\n",
    "plt.xlabel(\"Anzahl kontaktierte Kunden\")\n",
    "plt.ylabel(\"Prognostizierter Ertrag\")\n",
    "plt.title(\"Ertragskurve (Maximalertrag {0:.0f}€ bei Werbemenge {1})\".format(max(costlist),np.argmax(costlist)+1))\n",
    "\n"
   ]
  }
 ],
 "metadata": {
  "kernelspec": {
   "display_name": "Python 3 (ipykernel)",
   "language": "python",
   "name": "python3"
  },
  "language_info": {
   "codemirror_mode": {
    "name": "ipython",
    "version": 3
   },
   "file_extension": ".py",
   "mimetype": "text/x-python",
   "name": "python",
   "nbconvert_exporter": "python",
   "pygments_lexer": "ipython3",
   "version": "3.10.0"
  }
 },
 "nbformat": 4,
 "nbformat_minor": 5
}
